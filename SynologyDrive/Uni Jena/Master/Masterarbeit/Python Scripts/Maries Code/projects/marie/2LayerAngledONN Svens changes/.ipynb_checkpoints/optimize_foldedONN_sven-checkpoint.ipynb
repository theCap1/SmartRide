{
 "cells": [
  {
   "cell_type": "code",
   "execution_count": 3,
   "metadata": {},
   "outputs": [],
   "source": [
    "import tensorflow as tf\n",
    "import numpy as np\n",
    "import importlib\n",
    "import pandas as pd\n",
    "import time\n",
    "import sys, os\n",
    "import matplotlib.pylab as plt\n",
    "sys.path.append(os.path.join(os.path.dirname(os.path.realpath('__file__')), \"..\",\"..\",\"onn\"))\n",
    "import dnn \n",
    "\n",
    "\n",
    "#%load_ext tensorboard"
   ]
  },
  {
   "cell_type": "markdown",
   "metadata": {},
   "source": [
    "### 0 Load training data, test data and detector mask"
   ]
  },
  {
   "cell_type": "code",
   "execution_count": 4,
   "metadata": {},
   "outputs": [
    {
     "name": "stdout",
     "output_type": "stream",
     "text": [
      "tf.Tensor([ 10 784], shape=(2,), dtype=int32)\n",
      "tf.Tensor([ 11 784], shape=(2,), dtype=int32)\n"
     ]
    }
   ],
   "source": [
    "def getDetector(N_mesh = 28):\n",
    "    detector = pd.read_csv(os.path.join(\"..\",\"..\",\"detector_masks\",'detector_template_28.txt'), \n",
    "                       index_col=0, dtype=np.float32,low_memory=False)\n",
    "    detector_template = detector.iloc[1:, ].values.astype('float32')\n",
    "    \n",
    "    #Original size of detector\n",
    "    orig_size = int(np.sqrt(np.shape(detector_template)[-1]))\n",
    "    #resize detector to desitred meshing\n",
    "    detector_template = tf.reshape(detector_template, (-1,orig_size, orig_size, 1))\n",
    "    detector_template = tf.keras.layers.Resizing(N_mesh, N_mesh, interpolation=\"nearest\")(detector_template)\n",
    "    detector = tf.reshape(detector, (-1,orig_size, orig_size, 1))\n",
    "    detector = tf.keras.layers.Resizing(N_mesh, N_mesh, interpolation=\"nearest\")(detector)\n",
    "    \n",
    "    return tf.reshape(detector,(-1,N_mesh*N_mesh)),tf.reshape(detector_template,(-1,N_mesh*N_mesh))\n",
    "a,b = getDetector()\n",
    "print(tf.shape(b))\n",
    "print(tf.shape(a))"
   ]
  },
  {
   "cell_type": "code",
   "execution_count": 5,
   "metadata": {},
   "outputs": [],
   "source": [
    "# Trainings and Validation Data\n",
    "(x_train, y_train), (x_test, y_test) = tf.keras.datasets.mnist.load_data()\n",
    "x_train = x_train.astype(\"float64\") / 255.0 \n",
    "x_test  = x_test.astype(\"float64\") / 255.0  \n",
    "input_shape = x_test[0].shape\n",
    "\n",
    "#Detector\n",
    "detector, detector_template = getDetector()\n"
   ]
  },
  {
   "cell_type": "markdown",
   "metadata": {},
   "source": [
    "### 1 Build Model and Train"
   ]
  },
  {
   "cell_type": "markdown",
   "metadata": {},
   "source": [
    "#### 1.0 Build model"
   ]
  },
  {
   "cell_type": "code",
   "execution_count": 8,
   "metadata": {},
   "outputs": [
    {
     "name": "stdout",
     "output_type": "stream",
     "text": [
      "\n",
      "Check a specific class within module\n",
      "\n",
      "    A neural network layer that represents the metasurface, it manipulates the amplitude and phase of the incident field.\n",
      "    By default only the phase is trainable. In Neural Network terminology it represents an a linear activation.\n",
      "    The factor m in f(x)=m*x is determined by the phase and amplitude modulation by the metasurface at each pixel.\n",
      "\n",
      "    Attributes:\n",
      "        amplitude (float32):    variable containing the amplitude manipulation due to the metasurface\n",
      "        theta (float32):        trainable variable containing the phase shift due to the metasurface\n",
      "\n",
      "    Arguments:\n",
      "        N_meta (int):    number of pixels of our square input metasurface (in one direction)\n",
      "        N_mesh (int):    number of meshing points, choose such that there is at least one meshing point for half a wavelength\n",
      "                        it is desirable if N_out is a multiple of N_meta\n",
      "        **kwargs:       grants access to variables of the keras base layer class (see keras documentation)\n",
      "\n",
      "    Methods:\n",
      "        call:  computes the modulated field after interaction with the metasurface\n",
      "    \n"
     ]
    }
   ],
   "source": [
    "print(\"\\nCheck a specific class within module\")\n",
    "print(dnn.Meta.__doc__)"
   ]
  },
  {
   "cell_type": "code",
   "execution_count": 5,
   "metadata": {},
   "outputs": [],
   "source": [
    "importlib.reload(dnn)\n",
    "from tensorflow.keras.layers import Input, Flatten\n",
    "from tensorflow.keras.models import Model, Sequential\n",
    "\n",
    "#Here I define a little onn\n",
    "def get_model(input_shape, N_meta, N_mesh, D_scale1, D_scale2, D_scale3, zScale1, zScale2, lam):\n",
    "\n",
    "    #Get Detector\n",
    "    _, detector = getDetector(N_mesh)\n",
    "\n",
    "    # Define the Model Layers\n",
    "    input_layer = Input(shape = input_shape)\n",
    "    x = Flatten()(tf.cast(input_layer, tf.complex64))\n",
    "    x = dnn.Meta(N_mesh = input_shape[0], N_meta = N_meta)(x)\n",
    "    x = dnn.FreeSpacePropagation(N_mesh_in  = input_shape[0], N_mesh_out = N_mesh, \n",
    "                                 D_scale_in = D_scale1, D_scale_out = D_scale2, \n",
    "                                 lam  = lam, zScale   = zScale1)(x)\n",
    "    x = dnn.Meta(N_mesh = N_mesh, N_meta = N_meta)(x)\n",
    "    x = dnn.FreeSpacePropagation(N_mesh_in  = N_mesh, N_mesh_out = N_mesh, \n",
    "                                 D_scale_in = D_scale1, D_scale_out = D_scale3,  \n",
    "                                 lam  = lam, zScale   = zScale2)(x)\n",
    "    output_layer = dnn.ToDetector(detector)(x)\n",
    "    \n",
    "    # Build Model\n",
    "    model = Model(inputs=input_layer, outputs=output_layer, name=\"model\")\n",
    "\n",
    "\n",
    "    # Optimize Parameters\n",
    "    learning_rate = 0.001\n",
    "    optimizer     = tf.keras.optimizers.Adam(learning_rate)\n",
    "    metrics       = [tf.keras.metrics.SparseCategoricalAccuracy()]\n",
    "    loss          = tf.keras.losses.SparseCategoricalCrossentropy(from_logits=True)\n",
    "\n",
    "    # Compile Model\n",
    "    model.compile(\n",
    "        optimizer=optimizer,\n",
    "        loss=loss,\n",
    "        metrics=metrics)\n",
    "\n",
    "    return model"
   ]
  },
  {
   "cell_type": "code",
   "execution_count": 10,
   "metadata": {},
   "outputs": [
    {
     "name": "stdout",
     "output_type": "stream",
     "text": [
      "Model: \"model\"\n",
      "____________________________________________________________________________\n",
      " Layer (type)                Output Shape              Param #   Trainable  \n",
      "============================================================================\n",
      " input_1 (InputLayer)        [(None, 28, 28)]          0         Y          \n",
      "                                                                            \n",
      " tf.cast (TFOpLambda)        (None, 28, 28)            0         Y          \n",
      "                                                                            \n",
      " flatten (Flatten)           (None, 784)               0         Y          \n",
      "                                                                            \n",
      " meta (Meta)                 (None, 784)               1568      Y          \n",
      "                                                                            \n",
      " free_space_propagation (Fre  (None, 900)              0         Y          \n",
      " eSpacePropagation)                                                         \n",
      "                                                                            \n",
      " meta_1 (Meta)               (None, 900)               1568      Y          \n",
      "                                                                            \n",
      " free_space_propagation_1 (F  (None, 900)              0         Y          \n",
      " reeSpacePropagation)                                                       \n",
      "                                                                            \n",
      " to_detector (ToDetector)    (None, 10)                0         Y          \n",
      "                                                                            \n",
      "============================================================================\n",
      "Total params: 3,136\n",
      "Trainable params: 1,568\n",
      "Non-trainable params: 1,568\n",
      "____________________________________________________________________________\n",
      "Epoch 1/3\n",
      "7500/7500 [==============================] - 88s 11ms/step - loss: 1.7642 - sparse_categorical_accuracy: 0.7771 - val_loss: 1.6942 - val_sparse_categorical_accuracy: 0.8527\n",
      "Epoch 2/3\n",
      "7500/7500 [==============================] - 80s 11ms/step - loss: 1.6910 - sparse_categorical_accuracy: 0.8503 - val_loss: 1.6813 - val_sparse_categorical_accuracy: 0.8583\n",
      "Epoch 3/3\n",
      "7500/7500 [==============================] - 78s 10ms/step - loss: 1.6822 - sparse_categorical_accuracy: 0.8540 - val_loss: 1.6757 - val_sparse_categorical_accuracy: 0.8629\n",
      "The training required:\t 245.53361320495605 s\n"
     ]
    }
   ],
   "source": [
    "#TEST MODEL \n",
    "\n",
    "import time\n",
    "\n",
    "#Physical Parameters\n",
    "lam        = 0.785                   #wavelength in nm\n",
    "N_input    = np.shape(x_train)[-1] #number of input pixels, in one dimension\n",
    "N_meta     = 28                    #number of output pixels, in one dimension\n",
    "D_scale1   = 14.93\n",
    "D_scale2   = 14.93\n",
    "D_scale3   = 14.93\n",
    "N_mesh     = int(np.ceil(D_scale1*2))\n",
    "zScale1    = 32                    #interlayer distance as a factor of lamda\n",
    "zScale2    = zScale1               #interlayer distance as a factor of lamda\n",
    "\n",
    "#Display Model\n",
    "model      = get_model(input_shape,  N_meta = N_meta, N_mesh = N_mesh, \n",
    "                D_scale1 = D_scale1, D_scale2 = D_scale2, D_scale3 = D_scale3, \n",
    "                       zScale1 = zScale1, zScale2 = zScale2, lam = lam)\n",
    "Model.summary(model, expand_nested=True, show_trainable=True)\n",
    "\n",
    "# Trainings Parameter\n",
    "batch_size = 8\n",
    "epochs     = 3\n",
    "\n",
    "# Train Model\n",
    "t = time.time()\n",
    "history        = model.fit(x_train, y_train,\n",
    "    batch_size = batch_size,\n",
    "    shuffle    = True,\n",
    "    verbose    = 1,\n",
    "    epochs     = epochs,\n",
    "    callbacks  = tf.keras.callbacks.EarlyStopping(patience=2),\n",
    "    validation_data = (x_test, y_test))\n",
    "print(\"The training required:\\t\", time.time()-t, \"s\")"
   ]
  },
  {
   "cell_type": "code",
   "execution_count": 11,
   "metadata": {},
   "outputs": [
    {
     "name": "stdout",
     "output_type": "stream",
     "text": [
      "Epoch 1/2\n",
      "300/300 [==============================] - 25s 70ms/step - loss: 1.6758 - sparse_categorical_accuracy: 0.8600 - val_loss: 1.6724 - val_sparse_categorical_accuracy: 0.8642\n",
      "Epoch 2/2\n",
      "300/300 [==============================] - 18s 59ms/step - loss: 1.6749 - sparse_categorical_accuracy: 0.8620 - val_loss: 1.6717 - val_sparse_categorical_accuracy: 0.8659\n"
     ]
    }
   ],
   "source": [
    "history        = model.fit(x_train, y_train,\n",
    "    batch_size = 200,\n",
    "    shuffle    = True,\n",
    "    verbose    = 1,\n",
    "    epochs     = 2,\n",
    "    callbacks  = tf.keras.callbacks.EarlyStopping(patience=2),\n",
    "    validation_data = (x_test, y_test))\n"
   ]
  },
  {
   "cell_type": "code",
   "execution_count": 9,
   "metadata": {},
   "outputs": [
    {
     "name": "stdout",
     "output_type": "stream",
     "text": [
      "(2, 28, 28)\n"
     ]
    },
    {
     "data": {
      "image/png": "[encoded data removed]",
      "text/plain": [
       "<Figure size 432x288 with 2 Axes>"
      ]
     },
     "metadata": {
      "needs_background": "light"
     },
     "output_type": "display_data"
    },
    {
     "data": {
      "image/png": "[encoded data removed]",
      "text/plain": [
       "<Figure size 432x288 with 2 Axes>"
      ]
     },
     "metadata": {
      "needs_background": "light"
     },
     "output_type": "display_data"
    }
   ],
   "source": [
    "#Get Weights\n",
    "w = np.zeros((4,28*28))\n",
    "for i,weights in enumerate(model.get_weights()):\n",
    "    w[i] = weights\n",
    "\n",
    "#Plot Weights\n",
    "res = np.zeros((2,28,28))\n",
    "y = w[0]\n",
    "y[y<0] +=1\n",
    "y[y>1] -=1\n",
    "plt.figure()\n",
    "plt.imshow(np.reshape(y, (28,28)), cmap = \"twilight\")\n",
    "plt.colorbar()\n",
    "res[0] = np.reshape(y, (28,28))\n",
    "\n",
    "y = w[2]\n",
    "y[y<0] +=1\n",
    "y[y>1] -=1\n",
    "plt.figure()\n",
    "plt.imshow(np.reshape(y, (28,28)), cmap = \"twilight\")\n",
    "plt.colorbar()\n",
    "res[1] = np.reshape(y, (28,28))\n",
    "\n",
    "#save\n",
    "file = \"Optim_28x28.npy\"\n",
    "np.save(file, res)\n",
    "print(np.shape(np.load(file)))"
   ]
  },
  {
   "cell_type": "markdown",
   "metadata": {},
   "source": [
    "#### 1.2 Parameter Scan (28x28 Neurons) "
   ]
  },
  {
   "cell_type": "code",
   "execution_count": null,
   "metadata": {},
   "outputs": [
    {
     "name": "stdout",
     "output_type": "stream",
     "text": [
      "\n",
      "DScales: [12.12738854 14.29426752 16.4611465  18.62802548 20.79490446 22.96178344\n",
      " 25.12866242 27.2955414  29.46242038]\n",
      "\n",
      "zScales: [38.21656051 42.99363057 47.77070064 52.5477707  57.32484076 62.10191083\n",
      " 66.87898089 71.65605096 76.43312102]\n"
     ]
    }
   ],
   "source": [
    "# Parameters and constraints\n",
    "\n",
    "N_input    = np.shape(x_train)[-1] #number of input pixels, in one dimension\n",
    "N_meta     = 28                    #number of output pixels, in one dimension\n",
    "max_meta_ratio = 0.8\n",
    "lam           = 0.785 # wavelength in µm\n",
    "pixelsize_min = 0.340 # minimal neuron size given by the objective in µm\n",
    "pixelsize_max = 0.826 # maximal neuron size given by the objective in µm\n",
    "DScales       = np.linspace(pixelsize_min/lam*N_meta, pixelsize_max/lam*N_meta, 9)\n",
    "d_min         = 30  # minimal lateral size of the metasurface holder in µm\n",
    "d_max         = 60  # minimal lateral size of the metasurface holder in µm\n",
    "zScales       = np.linspace(d_min/lam, d_max/lam, 9)\n",
    "print(\"\\nDScales:\", DScales)\n",
    "print(\"\\nzScales:\", zScales)\n",
    "\n",
    "# Trainings Parameter\n",
    "batch_size = 150\n",
    "epochs     = 2\n",
    "\n",
    "#Parameter Scan\n",
    "result = np.zeros((len(zScales), len(DScales)))\n",
    "for i,zScale in enumerate(zScales):\n",
    "    zScale1 = zScale\n",
    "    zScale2 = zScale\n",
    "    for j,DScale in enumerate(DScales):\n",
    "        N_mesh = int(np.ceil(DScale*2))\n",
    "        N_detector = 37\n",
    "        #If metasurface is bigegr than the size of 3d printed area\n",
    "        if result[i,j] == 0:\n",
    "            if zScale < DScale:\n",
    "                continue\n",
    "            else:\n",
    "                model      = get_model(input_shape, N_meta = N_meta, \n",
    "                                       N_mesh = N_mesh, D_scale1 = DScale, D_scale2= DScale, D_scale3= DScale, \n",
    "                                       zScale1 = zScale, zScale2 = zScale, lam = lam)\n",
    "                history        = model.fit(x_train, y_train,\n",
    "                    batch_size = batch_size,\n",
    "                    shuffle    = True,\n",
    "                    verbose    = False,\n",
    "                    epochs     = epochs,\n",
    "                    callbacks  = tf.keras.callbacks.EarlyStopping(patience=2),\n",
    "                    validation_data = (x_test, y_test))\n",
    "                result[i,j] = history.history['sparse_categorical_accuracy'][-1]\n",
    "\n",
    "    print(i,j, result[i,j])"
   ]
  },
  {
   "cell_type": "code",
   "execution_count": null,
   "metadata": {},
   "outputs": [],
   "source": [
    "N_input    = np.shape(x_train)[-1] #number of input pixels, in one dimension\n",
    "N_meta     = 28                    #number of output pixels, in one dimension\n",
    "\n",
    "max_meta_ratio = 0.8\n",
    "lam           = 0.785 # wavelength in µm\n",
    "pixelsize_min = 0.340 # minimal neuron size given by the objective in µm\n",
    "pixelsize_max = 0.826 # maximal neuron size given by the objective in µm\n",
    "DScale        = np.linspace(pixelsize_min/lam*N_meta, pixelsize_max/lam*N_meta, 11)\n",
    "d_min         = 30  # minimal lateral size of the metasurface holder in µm\n",
    "d_max         = 60  # minimal lateral size of the metasurface holder in µm\n",
    "zScales       = np.linspace(d_min/lam, d_max/lam, 11)\n",
    "\n",
    "for j,DScale in enumerate(DScales):\n",
    "        print(N_mesh)"
   ]
  },
  {
   "cell_type": "code",
   "execution_count": null,
   "metadata": {},
   "outputs": [],
   "source": [
    "import matplotlib.pylab as pylab\n",
    "params = {'legend.fontsize': 'x-large',\n",
    "          'figure.figsize': (6,4),\n",
    "         'axes.labelsize': 'x-large',\n",
    "         'axes.titlesize':'x-large',\n",
    "         'xtick.labelsize':'x-large',\n",
    "         'ytick.labelsize':'x-large'}\n",
    "pylab.rcParams.update(params)\n",
    "\n",
    "#Find maximal Values\n",
    "maxAcc = np.max(result)\n",
    "i,j    = np.unravel_index(np.argmax(result), result.shape)\n",
    "zBest  = zScales[i]*lam\n",
    "dBest  = lam/DScales[j]\n",
    "\n",
    "#Plot Result\n",
    "x = DScales*lam\n",
    "y = zScales*lam\n",
    "#y = f_metas\n",
    "extent = [ np.max(x), np.min(x), np.min(y), np.max(y)]\n",
    "\n",
    "plt.figure()\n",
    "im = plt.imshow(result, extent = extent, aspect = \"auto\", origin = \"lower\", vmin=0.75, vmax=maxAcc)\n",
    "plt.ylabel(\"z [µm]\")\n",
    "plt.xlabel(\"lateral size of metasurface [µm]\")\n",
    "plt.colorbar(im)\n",
    "plt.show()\n",
    "\n",
    "print(maxAcc)"
   ]
  },
  {
   "cell_type": "markdown",
   "metadata": {},
   "source": [
    "#### Best results"
   ]
  },
  {
   "cell_type": "code",
   "execution_count": 207,
   "metadata": {},
   "outputs": [
    {
     "name": "stdout",
     "output_type": "stream",
     "text": [
      "Epoch 1/10\n",
      "7500/7500 [==============================] - 52s 6ms/step - loss: 1.7679 - sparse_categorical_accuracy: 0.8095 - val_loss: 1.7126 - val_sparse_categorical_accuracy: 0.8739\n",
      "Epoch 2/10\n",
      "7500/7500 [==============================] - 45s 6ms/step - loss: 1.7116 - sparse_categorical_accuracy: 0.8704 - val_loss: 1.7013 - val_sparse_categorical_accuracy: 0.8807\n",
      "Epoch 3/10\n",
      "7500/7500 [==============================] - 48s 6ms/step - loss: 1.7046 - sparse_categorical_accuracy: 0.8739 - val_loss: 1.6971 - val_sparse_categorical_accuracy: 0.8841\n",
      "Epoch 4/10\n",
      "7500/7500 [==============================] - 44s 6ms/step - loss: 1.7014 - sparse_categorical_accuracy: 0.8750 - val_loss: 1.6941 - val_sparse_categorical_accuracy: 0.8847\n",
      "Epoch 5/10\n",
      "7500/7500 [==============================] - 44s 6ms/step - loss: 1.6987 - sparse_categorical_accuracy: 0.8753 - val_loss: 1.6926 - val_sparse_categorical_accuracy: 0.8840\n",
      "Epoch 6/10\n",
      "7500/7500 [==============================] - 44s 6ms/step - loss: 1.6975 - sparse_categorical_accuracy: 0.8755 - val_loss: 1.6909 - val_sparse_categorical_accuracy: 0.8856\n",
      "Epoch 7/10\n",
      "7500/7500 [==============================] - 45s 6ms/step - loss: 1.6964 - sparse_categorical_accuracy: 0.8770 - val_loss: 1.6902 - val_sparse_categorical_accuracy: 0.8806\n",
      "Epoch 8/10\n",
      "7500/7500 [==============================] - 46s 6ms/step - loss: 1.6957 - sparse_categorical_accuracy: 0.8771 - val_loss: 1.6901 - val_sparse_categorical_accuracy: 0.8820\n",
      "Epoch 9/10\n",
      "7500/7500 [==============================] - 46s 6ms/step - loss: 1.6952 - sparse_categorical_accuracy: 0.8777 - val_loss: 1.6893 - val_sparse_categorical_accuracy: 0.8817\n",
      "Epoch 10/10\n",
      "7500/7500 [==============================] - 46s 6ms/step - loss: 1.6946 - sparse_categorical_accuracy: 0.8777 - val_loss: 1.6892 - val_sparse_categorical_accuracy: 0.8839\n",
      "The training required:\t 460.7812156677246 s\n"
     ]
    }
   ],
   "source": [
    "#Train properly for best parameter\n",
    "batch_size = 8\n",
    "epochs     = 10\n",
    "\n",
    "# Train Model\n",
    "N_mesh     = int(np.ceil(dBest*2))\n",
    "model      = get_model(input_shape, input_shape, N_meta = N_meta, \n",
    "                        N_mesh = N_mesh, D_scale1 = dBest, D_scale2 = dBest, D_scale3= DScale, \n",
    "                        zScale1 = zBest, zScale2 = zBest, lam = lam)\n",
    "t = time.time()\n",
    "history        = model.fit(x_train, y_train,\n",
    "    batch_size = batch_size,\n",
    "    shuffle    = True,\n",
    "    verbose    = 1,\n",
    "    epochs     = epochs,\n",
    "    callbacks  = tf.keras.callbacks.EarlyStopping(patience=2),\n",
    "    validation_data = (x_test, y_test))\n",
    "print(\"The training required:\\t\", time.time()-t, \"s\")\n"
   ]
  },
  {
   "cell_type": "code",
   "execution_count": 209,
   "metadata": {},
   "outputs": [
    {
     "name": "stdout",
     "output_type": "stream",
     "text": [
      "Best Results: 32.99999999999999 0.826\n"
     ]
    },
    {
     "data": {
      "image/png": "[encoded data removed]",
      "text/plain": [
       "<Figure size 360x288 with 1 Axes>"
      ]
     },
     "metadata": {
      "needs_background": "light"
     },
     "output_type": "display_data"
    },
    {
     "data": {
      "image/png": "[encoded data removed]",
      "text/plain": [
       "<Figure size 360x288 with 1 Axes>"
      ]
     },
     "metadata": {
      "needs_background": "light"
     },
     "output_type": "display_data"
    },
    {
     "name": "stdout",
     "output_type": "stream",
     "text": [
      "0.8776833415031433\n",
      "0.883899986743927\n"
     ]
    }
   ],
   "source": [
    "keys = history.history.keys()\n",
    "print(\"Best Results:\", zBest,pBest)\n",
    "\n",
    "params = {'legend.fontsize': 'x-large',\n",
    "          'figure.figsize': (5,4),\n",
    "         'axes.labelsize': 'x-large',\n",
    "         'axes.titlesize':'x-large',\n",
    "         'xtick.labelsize':'x-large',\n",
    "         'ytick.labelsize':'x-large'}\n",
    "\n",
    "pylab.rcParams.update(params)\n",
    "\n",
    "#Plot Accuracy\n",
    "plt.figure()\n",
    "plt.plot(range(1,11),history.history[ 'sparse_categorical_accuracy'], label = \"training\")\n",
    "plt.plot(range(1,11),history.history['val_sparse_categorical_accuracy'], label = \"validation\")\n",
    "plt.xlabel(\"epoch\")\n",
    "plt.ylabel(\"accuracy\")\n",
    "plt.grid()\n",
    "plt.legend()\n",
    "plt.show()\n",
    "\n",
    "#Plot Loss\n",
    "plt.figure()\n",
    "plt.plot(range(1,11),history.history['loss'], label = \"training\")\n",
    "plt.plot(range(1,11),history.history['val_loss'], label = \"validation\")\n",
    "plt.xlabel(\"epoch\")\n",
    "plt.ylabel(\"loss\")\n",
    "plt.grid()\n",
    "plt.legend()\n",
    "plt.show()\n",
    "\n",
    "print(history.history[ 'sparse_categorical_accuracy'][-1])\n",
    "print(history.history[ 'val_sparse_categorical_accuracy'][-1])"
   ]
  },
  {
   "cell_type": "code",
   "execution_count": 15,
   "metadata": {},
   "outputs": [
    {
     "data": {
      "image/png": "[encoded data removed]",
      "text/plain": [
       "<Figure size 432x288 with 2 Axes>"
      ]
     },
     "metadata": {
      "needs_background": "light"
     },
     "output_type": "display_data"
    },
    {
     "data": {
      "image/png": "[encoded data removed]",
      "text/plain": [
       "<Figure size 432x288 with 2 Axes>"
      ]
     },
     "metadata": {
      "needs_background": "light"
     },
     "output_type": "display_data"
    }
   ],
   "source": [
    "#Plot and save Phase of Model\n",
    "\n",
    "#Get Weights\n",
    "w = np.zeros((4,28*28))\n",
    "for i,weights in enumerate(model.get_weights()):\n",
    "    w[i] = weights\n",
    "\n",
    "#Plot Weights\n",
    "res = np.zeros((2,28,28))\n",
    "y = w[0]\n",
    "y[y<0] +=1\n",
    "y[y>1] -=1\n",
    "plt.figure()\n",
    "plt.imshow(np.reshape(y, (28,28)), cmap = \"twilight\")\n",
    "plt.colorbar()\n",
    "res[0] = np.reshape(y, (28,28))\n",
    "\n",
    "y = w[2]\n",
    "y[y<0] +=1\n",
    "y[y>1] -=1\n",
    "plt.figure()\n",
    "plt.imshow(np.reshape(y, (28,28)), cmap = \"twilight\")\n",
    "plt.colorbar()\n",
    "res[1] = np.reshape(y, (28,28))\n",
    "\n",
    "#save\n",
    "np.save(\"Optim_GA_28x28\", res)\n",
    "#print(np.shape(np.load(\"test_phasemask.npy\")))\n"
   ]
  },
  {
   "cell_type": "code",
   "execution_count": 17,
   "metadata": {},
   "outputs": [
    {
     "ename": "NameError",
     "evalue": "name 'N_mesh' is not defined",
     "output_type": "error",
     "traceback": [
      "\u001b[1;31m---------------------------------------------------------------------------\u001b[0m",
      "\u001b[1;31mNameError\u001b[0m                                 Traceback (most recent call last)",
      "\u001b[1;32m<ipython-input-17-b74f6965a5a0>\u001b[0m in \u001b[0;36m<module>\u001b[1;34m\u001b[0m\n\u001b[0;32m     13\u001b[0m \u001b[0mtestImages\u001b[0m \u001b[1;33m=\u001b[0m \u001b[0mnp\u001b[0m\u001b[1;33m.\u001b[0m\u001b[0marray\u001b[0m\u001b[1;33m(\u001b[0m\u001b[1;33m[\u001b[0m\u001b[0mx_train\u001b[0m\u001b[1;33m[\u001b[0m\u001b[1;36m1\u001b[0m\u001b[1;33m]\u001b[0m\u001b[1;33m,\u001b[0m\u001b[0mx_train\u001b[0m\u001b[1;33m[\u001b[0m\u001b[1;36m9\u001b[0m\u001b[1;33m]\u001b[0m\u001b[1;33m,\u001b[0m\u001b[0mx_train\u001b[0m\u001b[1;33m[\u001b[0m\u001b[1;36m5\u001b[0m\u001b[1;33m]\u001b[0m\u001b[1;33m]\u001b[0m\u001b[1;33m)\u001b[0m\u001b[1;33m\u001b[0m\u001b[1;33m\u001b[0m\u001b[0m\n\u001b[0;32m     14\u001b[0m \u001b[0max0\u001b[0m \u001b[1;33m=\u001b[0m \u001b[0mnp\u001b[0m\u001b[1;33m.\u001b[0m\u001b[0mreshape\u001b[0m\u001b[1;33m(\u001b[0m\u001b[0mtestImages\u001b[0m\u001b[1;33m,\u001b[0m \u001b[1;33m(\u001b[0m\u001b[1;36m3\u001b[0m\u001b[1;33m*\u001b[0m\u001b[1;36m28\u001b[0m\u001b[1;33m,\u001b[0m\u001b[1;36m28\u001b[0m\u001b[1;33m)\u001b[0m\u001b[1;33m)\u001b[0m\u001b[1;33m\u001b[0m\u001b[1;33m\u001b[0m\u001b[0m\n\u001b[1;32m---> 15\u001b[1;33m \u001b[0max1\u001b[0m \u001b[1;33m=\u001b[0m \u001b[0mnp\u001b[0m\u001b[1;33m.\u001b[0m\u001b[0mabs\u001b[0m\u001b[1;33m(\u001b[0m\u001b[0mnp\u001b[0m\u001b[1;33m.\u001b[0m\u001b[0mreshape\u001b[0m\u001b[1;33m(\u001b[0m\u001b[0mmodel_part_1\u001b[0m\u001b[1;33m(\u001b[0m\u001b[0mtestImages\u001b[0m\u001b[1;33m)\u001b[0m\u001b[1;33m,\u001b[0m \u001b[1;33m(\u001b[0m\u001b[1;36m3\u001b[0m\u001b[1;33m*\u001b[0m\u001b[0mN_mesh\u001b[0m\u001b[1;33m,\u001b[0m\u001b[0mN_mesh\u001b[0m\u001b[1;33m)\u001b[0m\u001b[1;33m)\u001b[0m\u001b[1;33m)\u001b[0m\u001b[1;33m**\u001b[0m\u001b[1;36m2\u001b[0m\u001b[1;33m\u001b[0m\u001b[1;33m\u001b[0m\u001b[0m\n\u001b[0m\u001b[0;32m     16\u001b[0m \u001b[0max2\u001b[0m \u001b[1;33m=\u001b[0m \u001b[0mnp\u001b[0m\u001b[1;33m.\u001b[0m\u001b[0mabs\u001b[0m\u001b[1;33m(\u001b[0m\u001b[0mnp\u001b[0m\u001b[1;33m.\u001b[0m\u001b[0mreshape\u001b[0m\u001b[1;33m(\u001b[0m\u001b[0mmodel_part_2\u001b[0m\u001b[1;33m(\u001b[0m\u001b[0mtestImages\u001b[0m\u001b[1;33m)\u001b[0m\u001b[1;33m,\u001b[0m \u001b[1;33m(\u001b[0m\u001b[1;36m3\u001b[0m\u001b[1;33m,\u001b[0m\u001b[0mN_mesh\u001b[0m\u001b[1;33m,\u001b[0m\u001b[0mN_mesh\u001b[0m\u001b[1;33m)\u001b[0m\u001b[1;33m)\u001b[0m\u001b[1;33m)\u001b[0m\u001b[1;33m**\u001b[0m\u001b[1;36m2\u001b[0m\u001b[1;33m\u001b[0m\u001b[1;33m\u001b[0m\u001b[0m\n\u001b[0;32m     17\u001b[0m \u001b[0max3\u001b[0m \u001b[1;33m=\u001b[0m \u001b[0mnp\u001b[0m\u001b[1;33m.\u001b[0m\u001b[0marray\u001b[0m\u001b[1;33m(\u001b[0m\u001b[1;33m[\u001b[0m\u001b[0mnp\u001b[0m\u001b[1;33m.\u001b[0m\u001b[0mreshape\u001b[0m\u001b[1;33m(\u001b[0m\u001b[0mmask\u001b[0m\u001b[1;33m,\u001b[0m \u001b[1;33m(\u001b[0m\u001b[0mN_mesh\u001b[0m\u001b[1;33m,\u001b[0m\u001b[0mN_mesh\u001b[0m\u001b[1;33m)\u001b[0m\u001b[1;33m)\u001b[0m\u001b[1;33m*\u001b[0m\u001b[0max\u001b[0m \u001b[1;32mfor\u001b[0m \u001b[0max\u001b[0m \u001b[1;32min\u001b[0m \u001b[0max2\u001b[0m\u001b[1;33m]\u001b[0m\u001b[1;33m)\u001b[0m\u001b[1;33m\u001b[0m\u001b[1;33m\u001b[0m\u001b[0m\n",
      "\u001b[1;31mNameError\u001b[0m: name 'N_mesh' is not defined"
     ]
    }
   ],
   "source": [
    "#Plot Intensity\n",
    "# Plot Propagation through system\n",
    "N_mesh = N_Mesh\n",
    "#Define the outputs I am interested in\n",
    "model_part_1 = Model(\n",
    "  inputs=model.input,\n",
    "  outputs=model.get_layer(index = 4).output)\n",
    "model_part_2 = Model(\n",
    "  inputs=model.input,\n",
    "  outputs=model.get_layer(index = 6).output)\n",
    "\n",
    "#Get intermediate output of test images\n",
    "testImages = np.array([x_train[1],x_train[9],x_train[5]])\n",
    "ax0 = np.reshape(testImages, (3*28,28))\n",
    "ax1 = np.abs(np.reshape(model_part_1(testImages), (3*N_mesh,N_mesh)))**2\n",
    "ax2 = np.abs(np.reshape(model_part_2(testImages), (3,N_mesh,N_mesh)))**2\n",
    "ax3 = np.array([np.reshape(mask, (N_mesh,N_mesh))*ax for ax in ax2])\n",
    "ax3 = np.reshape(ax3, (3*N_mesh,N_mesh))\n",
    "ax2 =  np.reshape(ax2, (3*N_mesh,N_mesh))\n",
    "\n",
    "#detector Mask\n",
    "mask = detector.iloc[0, ].values.astype('float32')\n",
    "mask = np.reshape(mask, input_shape)\n",
    "\n",
    "plt.figure()\n",
    "fig, axs = plt.subplots(1,4, figsize = (10,10))\n",
    "axs[0].imshow(ax0)\n",
    "axs[1].imshow(ax1)\n",
    "axs[2].imshow(ax2)\n",
    "axs[3].imshow(ax3)\n",
    "fig.tight_layout()\n",
    "plt.show()\n",
    "plt.close()\n"
   ]
  },
  {
   "cell_type": "markdown",
   "metadata": {},
   "source": [
    "### Optimization via Bayesian \n",
    "\n",
    "If this prooves to be reliable, I might use two different scales, \n",
    "for the distances and also different meta pixelSize.\n",
    "Increasing N means more neurons but also less available distances.\n",
    "In short I can optimize for: \n",
    "- dMeta1\n",
    "- dMeta2\n",
    "- z1\n",
    "- z2"
   ]
  },
  {
   "cell_type": "markdown",
   "metadata": {},
   "source": [
    "### Bayesian optimization"
   ]
  },
  {
   "cell_type": "code",
   "execution_count": 8,
   "metadata": {},
   "outputs": [],
   "source": [
    "from bayes_opt import BayesianOptimization\n",
    "from tensorflow.keras.layers import Input, Flatten\n",
    "from tensorflow.keras.models import Model, Sequential\n",
    "\n",
    "def black_box_function(d1, d2, d3, z1, z2, N_meta = 28, lam = 0.785):\n",
    "    \n",
    "    # Physical Parameters in wavelength independend ones\n",
    "    #N_meta   = int(np.floor(N_meta)) #force integer Values\n",
    "    zScale1  = z1/lam\n",
    "    zScale2  = z2/lam\n",
    "    dScale1  = d1/lam\n",
    "    dScale2  = d2/lam\n",
    "    dScale3  = d3/lam\n",
    "    \n",
    "    \n",
    "    # Trainings Parameter\n",
    "    batch_size = 150\n",
    "    epochs     = 2\n",
    "    \n",
    "    # Model Training\n",
    "    d = np.max([dScale1, dScale2,dScale3])\n",
    "    N_mesh = 35#int(np.ceil(d*2))\n",
    "    if d1<z1:\n",
    "        model      = get_model(input_shape, N_meta = N_meta, N_mesh = N_mesh, \n",
    "                               D_scale1 = dScale1, D_scale2 = dScale2, D_scale3 = dScale3, \n",
    "                               zScale1 = z1, zScale2 = z2, lam = lam)\n",
    "        history        = model.fit(x_train, y_train,\n",
    "            batch_size = batch_size,\n",
    "            shuffle    = True,\n",
    "            verbose    = False,\n",
    "            epochs     = epochs,\n",
    "            callbacks  = tf.keras.callbacks.EarlyStopping(patience=2),\n",
    "            validation_data = (x_test, y_test))\n",
    "        result = history.history['sparse_categorical_accuracy'][-1]\n",
    "    else:\n",
    "        result = 0\n",
    "        \n",
    "    return result\n",
    "\n",
    "\n",
    "#black_box_function(d1, d2, d3, z1, z2, N_meta = 28, lam = 0.785)        "
   ]
  },
  {
   "cell_type": "code",
   "execution_count": null,
   "metadata": {},
   "outputs": [
    {
     "name": "stdout",
     "output_type": "stream",
     "text": [
      "|   iter    |  target   |    d1     |    d2     |    d3     |    z1     |    z2     |\n",
      "-------------------------------------------------------------------------------------\n",
      "| \u001b[0m1        \u001b[0m | \u001b[0m0.8066   \u001b[0m | \u001b[0m19.44    \u001b[0m | \u001b[0m21.36    \u001b[0m | \u001b[0m16.8     \u001b[0m | \u001b[0m33.02    \u001b[0m | \u001b[0m31.47    \u001b[0m |\n",
      "| \u001b[0m2        \u001b[0m | \u001b[0m0.8025   \u001b[0m | \u001b[0m17.38    \u001b[0m | \u001b[0m17.98    \u001b[0m | \u001b[0m18.99    \u001b[0m | \u001b[0m33.97    \u001b[0m | \u001b[0m35.39    \u001b[0m |\n",
      "| \u001b[0m3        \u001b[0m | \u001b[0m0.8049   \u001b[0m | \u001b[0m19.45    \u001b[0m | \u001b[0m21.14    \u001b[0m | \u001b[0m18.09    \u001b[0m | \u001b[0m38.78    \u001b[0m | \u001b[0m30.27    \u001b[0m |\n",
      "| \u001b[0m4        \u001b[0m | \u001b[0m0.8039   \u001b[0m | \u001b[0m21.04    \u001b[0m | \u001b[0m19.44    \u001b[0m | \u001b[0m20.34    \u001b[0m | \u001b[0m31.4     \u001b[0m | \u001b[0m31.98    \u001b[0m |\n",
      "| \u001b[95m5        \u001b[0m | \u001b[95m0.8136   \u001b[0m | \u001b[95m21.87    \u001b[0m | \u001b[95m22.93    \u001b[0m | \u001b[95m18.78    \u001b[0m | \u001b[95m36.92    \u001b[0m | \u001b[95m38.76    \u001b[0m |\n",
      "| \u001b[95m6        \u001b[0m | \u001b[95m0.8153   \u001b[0m | \u001b[95m22.46    \u001b[0m | \u001b[95m17.34    \u001b[0m | \u001b[95m17.05    \u001b[0m | \u001b[95m31.7     \u001b[0m | \u001b[95m38.78    \u001b[0m |\n",
      "| \u001b[0m7        \u001b[0m | \u001b[0m0.8133   \u001b[0m | \u001b[0m17.42    \u001b[0m | \u001b[0m19.46    \u001b[0m | \u001b[0m22.86    \u001b[0m | \u001b[0m35.33    \u001b[0m | \u001b[0m36.92    \u001b[0m |\n"
     ]
    }
   ],
   "source": [
    "pixelsize_max = 0.826 # maximal neuron size given by the objective in µm\n",
    "lam = 0.785\n",
    "# Bounded region of parameter space\n",
    "N_meta = 28\n",
    "pbounds = {'d1': (0.60*N_meta, pixelsize_max*N_meta), \n",
    "           'd2': (0.60*N_meta, pixelsize_max*N_meta),\n",
    "           'd3': (0.60*N_meta, pixelsize_max*N_meta),\n",
    "           'z1': (30, 40),\n",
    "           'z2': (30, 40)}\n",
    "\n",
    "#Optimize the objective\n",
    "optimizer = BayesianOptimization(f = black_box_function, pbounds = pbounds, random_state = 1)\n",
    "optimizer.maximize(init_points = 8, n_iter = 15)\n",
    "\n",
    "#Display Results\n",
    "print(optimizer.max)"
   ]
  },
  {
   "cell_type": "code",
   "execution_count": 12,
   "metadata": {},
   "outputs": [
    {
     "name": "stdout",
     "output_type": "stream",
     "text": [
      "Epoch 1/10\n",
      "7500/7500 [==============================] - 139s 16ms/step - loss: 1.7421 - sparse_categorical_accuracy: 0.7958 - val_loss: 1.6761 - val_sparse_categorical_accuracy: 0.8675\n",
      "Epoch 2/10\n",
      "7500/7500 [==============================] - 115s 15ms/step - loss: 1.6755 - sparse_categorical_accuracy: 0.8663 - val_loss: 1.6682 - val_sparse_categorical_accuracy: 0.8754\n",
      "Epoch 3/10\n",
      "7500/7500 [==============================] - 116s 15ms/step - loss: 1.6691 - sparse_categorical_accuracy: 0.8712 - val_loss: 1.6617 - val_sparse_categorical_accuracy: 0.8794\n",
      "Epoch 4/10\n",
      "7500/7500 [==============================] - 116s 15ms/step - loss: 1.6658 - sparse_categorical_accuracy: 0.8731 - val_loss: 1.6624 - val_sparse_categorical_accuracy: 0.8740\n",
      "Epoch 5/10\n",
      "7500/7500 [==============================] - 111s 15ms/step - loss: 1.6639 - sparse_categorical_accuracy: 0.8738 - val_loss: 1.6594 - val_sparse_categorical_accuracy: 0.8793\n",
      "Epoch 6/10\n",
      "7500/7500 [==============================] - 112s 15ms/step - loss: 1.6627 - sparse_categorical_accuracy: 0.8746 - val_loss: 1.6584 - val_sparse_categorical_accuracy: 0.8760\n",
      "Epoch 7/10\n",
      "7500/7500 [==============================] - 111s 15ms/step - loss: 1.6619 - sparse_categorical_accuracy: 0.8756 - val_loss: 1.6602 - val_sparse_categorical_accuracy: 0.8741\n",
      "Epoch 8/10\n",
      "7500/7500 [==============================] - 111s 15ms/step - loss: 1.6613 - sparse_categorical_accuracy: 0.8756 - val_loss: 1.6572 - val_sparse_categorical_accuracy: 0.8770\n",
      "Epoch 9/10\n",
      "7500/7500 [==============================] - 113s 15ms/step - loss: 1.6609 - sparse_categorical_accuracy: 0.8758 - val_loss: 1.6554 - val_sparse_categorical_accuracy: 0.8817\n",
      "Epoch 10/10\n",
      "7500/7500 [==============================] - 113s 15ms/step - loss: 1.6604 - sparse_categorical_accuracy: 0.8758 - val_loss: 1.6560 - val_sparse_categorical_accuracy: 0.8794\n",
      "The training required:\t 1157.189824104309 s\n"
     ]
    }
   ],
   "source": [
    "#Train properly for best parameter\n",
    "batch_size = 8\n",
    "epochs     = 10\n",
    "N_mesh     = 40\n",
    "dScale1, dScale2, dScale3, z1, z2 = (18.31/lam, 21.76/lam, 22.27/lam, 30.55/lam, 37.15/lam)\n",
    "# Train Model\n",
    "model      = get_model(input_shape, N_meta = N_meta, N_mesh = N_mesh, \n",
    "                        D_scale1 = dScale1, D_scale2 = dScale2, D_scale3 = dScale3, \n",
    "                        zScale1 = z1, zScale2 = z2, lam = lam)\n",
    "t = time.time()\n",
    "history        = model.fit(x_train, y_train,\n",
    "    batch_size = batch_size,\n",
    "    shuffle    = True,\n",
    "    verbose    = 1,\n",
    "    epochs     = epochs,\n",
    "    callbacks  = tf.keras.callbacks.EarlyStopping(patience=2),\n",
    "    validation_data = (x_test, y_test))\n",
    "print(\"The training required:\\t\", time.time()-t, \"s\")\n"
   ]
  },
  {
   "cell_type": "code",
   "execution_count": 22,
   "metadata": {},
   "outputs": [
    {
     "data": {
      "image/png": "[encoded data removed]",
      "text/plain": [
       "<Figure size 360x288 with 1 Axes>"
      ]
     },
     "metadata": {
      "needs_background": "light"
     },
     "output_type": "display_data"
    },
    {
     "data": {
      "image/png": "[encoded data removed]",
      "text/plain": [
       "<Figure size 360x288 with 1 Axes>"
      ]
     },
     "metadata": {
      "needs_background": "light"
     },
     "output_type": "display_data"
    },
    {
     "name": "stdout",
     "output_type": "stream",
     "text": [
      "0.8758000135421753\n",
      "0.8794000148773193\n"
     ]
    },
    {
     "data": {
      "image/png": "[encoded data removed]",
      "text/plain": [
       "<Figure size 360x288 with 2 Axes>"
      ]
     },
     "metadata": {
      "needs_background": "light"
     },
     "output_type": "display_data"
    },
    {
     "data": {
      "image/png": "[encoded data removed]",
      "text/plain": [
       "<Figure size 360x288 with 2 Axes>"
      ]
     },
     "metadata": {
      "needs_background": "light"
     },
     "output_type": "display_data"
    }
   ],
   "source": [
    "'''keys = history.history.keys()\n",
    "print(\"Best Results:\", zBest,pBest)'''\n",
    "import matplotlib.pylab as pylab\n",
    "params = {'legend.fontsize': 'x-large',\n",
    "          'figure.figsize': (5,4),\n",
    "         'axes.labelsize': 'x-large',\n",
    "         'axes.titlesize':'x-large',\n",
    "         'xtick.labelsize':'x-large',\n",
    "         'ytick.labelsize':'x-large'}\n",
    "\n",
    "pylab.rcParams.update(params)\n",
    "\n",
    "#Plot Accuracy\n",
    "plt.figure()\n",
    "plt.plot(range(1,11),history.history[ 'sparse_categorical_accuracy'], label = \"training\")\n",
    "plt.plot(range(1,11),history.history['val_sparse_categorical_accuracy'], label = \"validation\")\n",
    "plt.xlabel(\"epoch\")\n",
    "plt.ylabel(\"accuracy\")\n",
    "plt.grid()\n",
    "plt.legend()\n",
    "plt.show()\n",
    "\n",
    "#Plot Loss\n",
    "plt.figure()\n",
    "plt.plot(range(1,11),history.history['loss'], label = \"training\")\n",
    "plt.plot(range(1,11),history.history['val_loss'], label = \"validation\")\n",
    "plt.xlabel(\"epoch\")\n",
    "plt.ylabel(\"loss\")\n",
    "plt.grid()\n",
    "plt.legend()\n",
    "plt.show()\n",
    "\n",
    "print(history.history[ 'sparse_categorical_accuracy'][-1])\n",
    "print(history.history[ 'val_sparse_categorical_accuracy'][-1])\n",
    "\n",
    "#Plot and save Phase of Model\n",
    "#Get Weights\n",
    "w = []\n",
    "for i,weights in enumerate(model.get_weights()):\n",
    "    w.append(weights)\n",
    "\n",
    "#Plot Weights\n",
    "res = []\n",
    "y = w[0]\n",
    "y[y<0] +=1\n",
    "y[y>1] -=1\n",
    "plt.figure()\n",
    "plt.imshow(np.reshape(y, (28,28)), cmap = \"twilight\")\n",
    "plt.colorbar()\n",
    "res.append(np.reshape(y, (28,28)))\n",
    "\n",
    "y = w[2]\n",
    "y[y<0] +=1\n",
    "y[y>1] -=1\n",
    "plt.figure()\n",
    "plt.imshow(np.reshape(y, (28,28)), cmap = \"twilight\")\n",
    "plt.colorbar()\n",
    "res.append(np.reshape(y, (28,28)))\n",
    "\n",
    "#save\n",
    "np.save(\"Optim_28x28\", res)"
   ]
  },
  {
   "cell_type": "code",
   "execution_count": 23,
   "metadata": {},
   "outputs": [
    {
     "name": "stdout",
     "output_type": "stream",
     "text": [
      "Model: \"model\"\n",
      "____________________________________________________________________________\n",
      " Layer (type)                Output Shape              Param #   Trainable  \n",
      "============================================================================\n",
      " input_25 (InputLayer)       [(None, 28, 28)]          0         Y          \n",
      "                                                                            \n",
      " tf.cast_24 (TFOpLambda)     (None, 28, 28)            0         Y          \n",
      "                                                                            \n",
      " flatten_72 (Flatten)        (None, 784)               0         Y          \n",
      "                                                                            \n",
      " meta_48 (Meta)              (None, 784)               1568      Y          \n",
      "                                                                            \n",
      " free_space_propagation_48 (  (None, 1600)             0         Y          \n",
      " FreeSpacePropagation)                                                      \n",
      "                                                                            \n",
      " meta_49 (Meta)              (None, 1600)              1568      Y          \n",
      "                                                                            \n",
      " free_space_propagation_49 (  (None, 1600)             0         Y          \n",
      " FreeSpacePropagation)                                                      \n",
      "                                                                            \n",
      " to_detector_24 (ToDetector)  (None, 10)               0         Y          \n",
      "                                                                            \n",
      "============================================================================\n",
      "Total params: 3,136\n",
      "Trainable params: 1,568\n",
      "Non-trainable params: 1,568\n",
      "____________________________________________________________________________\n"
     ]
    }
   ],
   "source": [
    "Model.summary(model, expand_nested=True, show_trainable=True)"
   ]
  },
  {
   "cell_type": "code",
   "execution_count": 37,
   "metadata": {},
   "outputs": [
    {
     "data": {
      "text/plain": [
       "<Figure size 360x288 with 0 Axes>"
      ]
     },
     "metadata": {},
     "output_type": "display_data"
    },
    {
     "data": {
      "image/png": "[encoded data removed]",
      "text/plain": [
       "<Figure size 720x720 with 4 Axes>"
      ]
     },
     "metadata": {
      "needs_background": "light"
     },
     "output_type": "display_data"
    }
   ],
   "source": [
    "# Plot Propagation through system\n",
    "N_mesh = 40\n",
    "\n",
    "#Define the outputs I am interested in\n",
    "model_part_1 = Model(\n",
    "  inputs=model.input,\n",
    "  outputs=model.get_layer(index = 4).output)\n",
    "model_part_2 = Model(\n",
    "  inputs=model.input,\n",
    "  outputs=model.get_layer(index = 6).output)\n",
    "\n",
    "#detector Mask\n",
    "a, b = getDetector(N_mesh = N_mesh)\n",
    "mask = np.reshape(a[0],(N_mesh,N_mesh))\n",
    "\n",
    "#Get intermediate output of test images\n",
    "out1 = [i /np.max(i) for i in model_part_1(testImages)]\n",
    "out2 = [i /np.max(i) for i in model_part_2(testImages)]\n",
    "testImages = np.array([x_train[1],x_train[9],x_train[5]])\n",
    "ax0 = np.reshape(testImages, (3*28,28))\n",
    "ax1 = np.abs(np.reshape(out1, (3*N_mesh,N_mesh)))**2\n",
    "ax2 = np.abs(np.reshape(out2, (3,N_mesh,N_mesh)))**2\n",
    "ax3 = np.array([np.reshape(mask, (N_mesh,N_mesh))*ax for ax in ax2])\n",
    "ax3 = np.reshape(ax3, (3*N_mesh,N_mesh))\n",
    "ax2 =  np.reshape(ax2, (3*N_mesh,N_mesh))\n",
    "\n",
    "\n",
    "plt.figure()\n",
    "fig, axs = plt.subplots(1,4, figsize = (10,10))\n",
    "axs[0].imshow(ax0)\n",
    "axs[1].imshow(ax1)\n",
    "axs[2].imshow(ax2)\n",
    "axs[3].imshow(ax3)\n",
    "fig.tight_layout()\n",
    "plt.show()\n",
    "plt.close()\n"
   ]
  },
  {
   "cell_type": "markdown",
   "metadata": {},
   "source": [
    "### Larger Model"
   ]
  },
  {
   "cell_type": "code",
   "execution_count": 9,
   "metadata": {},
   "outputs": [],
   "source": [
    "from bayes_opt import BayesianOptimization\n",
    "from tensorflow.keras.layers import Input, Flatten\n",
    "from tensorflow.keras.models import Model, Sequential\n",
    "\n",
    "#Here I define a little onn\n",
    "def get_model(input_shape, N_mesh, D_scale1, D_scale2, D_scale3, zScale1, zScale2, lam):\n",
    "\n",
    "    #Get Detector\n",
    "    _, detector = getDetector(N_mesh)\n",
    "\n",
    "    # Define the Model Layers\n",
    "    input_layer = Input(shape = input_shape)\n",
    "    x = Flatten()(tf.cast(input_layer, tf.complex64))\n",
    "    x = dnn.Meta(N_mesh = input_shape[0], N_meta = 28)(x)\n",
    "    x = dnn.FreeSpacePropagation(N_mesh_in  = input_shape[0], N_mesh_out = N_mesh, \n",
    "                                 D_scale_in = D_scale1, D_scale_out = D_scale2, \n",
    "                                 lam  = lam, zScale   = zScale1)(x)\n",
    "    x = dnn.Meta(N_mesh = N_mesh, N_meta = 40)(x)\n",
    "    x = dnn.FreeSpacePropagation(N_mesh_in  = N_mesh, N_mesh_out = N_mesh, \n",
    "                                 D_scale_in = D_scale1, D_scale_out = D_scale3,  \n",
    "                                 lam  = lam, zScale   = zScale2)(x)\n",
    "    output_layer = dnn.ToDetector(detector)(x)\n",
    "    \n",
    "    # Build Model\n",
    "    model = Model(inputs=input_layer, outputs=output_layer, name=\"model\")\n",
    "\n",
    "\n",
    "    # Optimize Parameters\n",
    "    learning_rate = 0.001\n",
    "    optimizer     = tf.keras.optimizers.Adam(learning_rate)\n",
    "    metrics       = [tf.keras.metrics.SparseCategoricalAccuracy()]\n",
    "    loss          = tf.keras.losses.SparseCategoricalCrossentropy(from_logits=True)\n",
    "\n",
    "    # Compile Model\n",
    "    model.compile(\n",
    "        optimizer=optimizer,\n",
    "        loss=loss,\n",
    "        metrics=metrics)\n",
    "\n",
    "    return model\n",
    "\n",
    "def black_box_function(d1, d2, d3, z1, z2, lam = 0.785):\n",
    "    \n",
    "    # Physical Parameters in wavelength independend ones\n",
    "    #N_meta   = int(np.floor(N_meta)) #force integer Values\n",
    "    zScale1  = z1/lam\n",
    "    zScale2  = z2/lam\n",
    "    dScale1  = d1/lam\n",
    "    dScale2  = d2/lam\n",
    "    dScale3  = d3/lam\n",
    "    \n",
    "    \n",
    "    # Trainings Parameter\n",
    "    batch_size = 150\n",
    "    epochs     = 2\n",
    "    \n",
    "    # Model Training\n",
    "    d = np.max([dScale1, dScale2,dScale3])\n",
    "    N_mesh = 40#int(np.ceil(d*2))\n",
    "    if d1<z1:\n",
    "        model      = get_model(input_shape,  N_mesh = N_mesh, \n",
    "                               D_scale1 = dScale1, D_scale2 = dScale2, D_scale3 = dScale3, \n",
    "                               zScale1 = z1, zScale2 = z2, lam = lam)\n",
    "        history        = model.fit(x_train, y_train,\n",
    "            batch_size = batch_size,\n",
    "            shuffle    = True,\n",
    "            verbose    = False,\n",
    "            epochs     = epochs,\n",
    "            callbacks  = tf.keras.callbacks.EarlyStopping(patience=2),\n",
    "            validation_data = (x_test, y_test))\n",
    "        result = history.history['sparse_categorical_accuracy'][-1]\n",
    "    else:\n",
    "        result = 0\n",
    "        \n",
    "    return result\n",
    "\n"
   ]
  },
  {
   "cell_type": "code",
   "execution_count": null,
   "metadata": {},
   "outputs": [
    {
     "name": "stdout",
     "output_type": "stream",
     "text": [
      "|   iter    |  target   |    d1     |    d2     |    d3     |    z1     |    z2     |\n",
      "-------------------------------------------------------------------------------------\n",
      "| \u001b[0m1        \u001b[0m | \u001b[0m0.8217   \u001b[0m | \u001b[0m20.26    \u001b[0m | \u001b[0m21.75    \u001b[0m | \u001b[0m18.2     \u001b[0m | \u001b[0m33.02    \u001b[0m | \u001b[0m31.47    \u001b[0m |\n"
     ]
    }
   ],
   "source": [
    "pixelsize_max = 0.826 # maximal neuron size given by the objective in µm\n",
    "lam = 0.785\n",
    "# Bounded region of parameter space\n",
    "N_meta = 28\n",
    "pbounds = {'d1': (0.65*N_meta, pixelsize_max*N_meta), \n",
    "           'd2': (0.65*N_meta, pixelsize_max*N_meta),\n",
    "           'd3': (0.65*N_meta, pixelsize_max*N_meta),\n",
    "           'z1': (30, 40),\n",
    "           'z2': (30, 40)}\n",
    "\n",
    "#Optimize the objective\n",
    "optimizer = BayesianOptimization(f = black_box_function, pbounds = pbounds, random_state = 1)\n",
    "optimizer.maximize(init_points = 8, n_iter = 15)\n",
    "\n",
    "#Display Results\n",
    "print(optimizer.max)"
   ]
  },
  {
   "cell_type": "code",
   "execution_count": null,
   "metadata": {},
   "outputs": [],
   "source": [
    "#Train properly for best parameter\n",
    "batch_size = 8\n",
    "epochs     = 10\n",
    "N_mesh     = 40\n",
    "dScale1, dScale2, dScale3, z1, z2 = (18.31/lam, 21.76/lam, 22.27/lam, 30.55/lam, 37.15/lam)\n",
    "# Train Model\n",
    "model      = get_model(input_shape, N_meta = N_meta, N_mesh = N_mesh, \n",
    "                        D_scale1 = dScale1, D_scale2 = dScale2, D_scale3 = dScale3, \n",
    "                        zScale1 = z1, zScale2 = z2, lam = lam)\n",
    "t = time.time()\n",
    "history        = model.fit(x_train, y_train,\n",
    "    batch_size = batch_size,\n",
    "    shuffle    = True,\n",
    "    verbose    = 1,\n",
    "    epochs     = epochs,\n",
    "    callbacks  = tf.keras.callbacks.EarlyStopping(patience=2),\n",
    "    validation_data = (x_test, y_test))\n",
    "print(\"The training required:\\t\", time.time()-t, \"s\")\n"
   ]
  },
  {
   "cell_type": "code",
   "execution_count": null,
   "metadata": {},
   "outputs": [],
   "source": [
    "Model.summary(model, expand_nested=True, show_trainable=True)"
   ]
  },
  {
   "cell_type": "code",
   "execution_count": null,
   "metadata": {},
   "outputs": [],
   "source": [
    "'''keys = history.history.keys()\n",
    "print(\"Best Results:\", zBest,pBest)'''\n",
    "import matplotlib.pylab as pylab\n",
    "params = {'legend.fontsize': 'x-large',\n",
    "          'figure.figsize': (5,4),\n",
    "         'axes.labelsize': 'x-large',\n",
    "         'axes.titlesize':'x-large',\n",
    "         'xtick.labelsize':'x-large',\n",
    "         'ytick.labelsize':'x-large'}\n",
    "\n",
    "pylab.rcParams.update(params)\n",
    "\n",
    "#Plot Accuracy\n",
    "plt.figure()\n",
    "plt.plot(range(1,11),history.history[ 'sparse_categorical_accuracy'], label = \"training\")\n",
    "plt.plot(range(1,11),history.history['val_sparse_categorical_accuracy'], label = \"validation\")\n",
    "plt.xlabel(\"epoch\")\n",
    "plt.ylabel(\"accuracy\")\n",
    "plt.grid()\n",
    "plt.legend()\n",
    "plt.show()\n",
    "\n",
    "#Plot Loss\n",
    "plt.figure()\n",
    "plt.plot(range(1,11),history.history['loss'], label = \"training\")\n",
    "plt.plot(range(1,11),history.history['val_loss'], label = \"validation\")\n",
    "plt.xlabel(\"epoch\")\n",
    "plt.ylabel(\"loss\")\n",
    "plt.grid()\n",
    "plt.legend()\n",
    "plt.show()\n",
    "\n",
    "print(history.history[ 'sparse_categorical_accuracy'][-1])\n",
    "print(history.history[ 'val_sparse_categorical_accuracy'][-1])\n",
    "\n",
    "#Plot and save Phase of Model\n",
    "#Get Weights\n",
    "w = []\n",
    "for i,weights in enumerate(model.get_weights()):\n",
    "    w.append(weights)\n",
    "\n",
    "#Plot Weights\n",
    "res = []\n",
    "y = w[0]\n",
    "y[y<0] +=1\n",
    "y[y>1] -=1\n",
    "plt.figure()\n",
    "plt.imshow(np.reshape(y, (28,28)), cmap = \"twilight\")\n",
    "plt.colorbar()\n",
    "res.append(np.reshape(y, (28,28)))\n",
    "\n",
    "y = w[2]\n",
    "y[y<0] +=1\n",
    "y[y>1] -=1\n",
    "plt.figure()\n",
    "plt.imshow(np.reshape(y, (28,28)), cmap = \"twilight\")\n",
    "plt.colorbar()\n",
    "res.append(np.reshape(y, (28,28)))\n",
    "\n",
    "#save\n",
    "np.save(\"Optim_28x40_new\", res)"
   ]
  },
  {
   "cell_type": "code",
   "execution_count": null,
   "metadata": {},
   "outputs": [],
   "source": [
    "# Plot Propagation through system\n",
    "N_mesh = 40\n",
    "\n",
    "#Define the outputs I am interested in\n",
    "model_part_1 = Model(\n",
    "  inputs=model.input,\n",
    "  outputs=model.get_layer(index = 4).output)\n",
    "model_part_2 = Model(\n",
    "  inputs=model.input,\n",
    "  outputs=model.get_layer(index = 6).output)\n",
    "\n",
    "#detector Mask\n",
    "a, b = getDetector(N_mesh = N_mesh)\n",
    "mask = np.reshape(a[0],(N_mesh,N_mesh))\n",
    "\n",
    "#Get intermediate output of test images\n",
    "out1 = [i /np.max(i) for i in model_part_1(testImages)]\n",
    "out2 = [i /np.max(i) for i in model_part_2(testImages)]\n",
    "testImages = np.array([x_train[1],x_train[9],x_train[5]])\n",
    "ax0 = np.reshape(testImages, (3*28,28))\n",
    "ax1 = np.abs(np.reshape(out1, (3*N_mesh,N_mesh)))**2\n",
    "ax2 = np.abs(np.reshape(out2, (3,N_mesh,N_mesh)))**2\n",
    "ax3 = np.array([np.reshape(mask, (N_mesh,N_mesh))*ax for ax in ax2])\n",
    "ax3 = np.reshape(ax3, (3*N_mesh,N_mesh))\n",
    "ax2 =  np.reshape(ax2, (3*N_mesh,N_mesh))\n",
    "\n",
    "\n",
    "plt.figure()\n",
    "fig, axs = plt.subplots(1,4, figsize = (10,10))\n",
    "axs[0].imshow(ax0)\n",
    "axs[1].imshow(ax1)\n",
    "axs[2].imshow(ax2)\n",
    "axs[3].imshow(ax3)\n",
    "fig.tight_layout()\n",
    "plt.show()\n",
    "plt.close()\n"
   ]
  },
  {
   "cell_type": "markdown",
   "metadata": {},
   "source": [
    "### Old Simulation Parameters\n",
    "ABORTED BECAUSE TWO FIRST EPOCHS OF OTHER SIM ARE BETTER"
   ]
  },
  {
   "cell_type": "code",
   "execution_count": 38,
   "metadata": {},
   "outputs": [
    {
     "name": "stdout",
     "output_type": "stream",
     "text": [
      "Epoch 1/10\n",
      "7500/7500 [==============================] - 135s 16ms/step - loss: 1.7872 - sparse_categorical_accuracy: 0.7770 - val_loss: 1.7190 - val_sparse_categorical_accuracy: 0.8538\n",
      "Epoch 2/10\n",
      "7500/7500 [==============================] - 113s 15ms/step - loss: 1.7166 - sparse_categorical_accuracy: 0.8550 - val_loss: 1.7081 - val_sparse_categorical_accuracy: 0.8604\n",
      "Epoch 3/10\n",
      "7500/7500 [==============================] - 115s 15ms/step - loss: 1.7095 - sparse_categorical_accuracy: 0.8602 - val_loss: 1.7031 - val_sparse_categorical_accuracy: 0.8668\n",
      "Epoch 4/10\n",
      "7500/7500 [==============================] - 116s 15ms/step - loss: 1.7067 - sparse_categorical_accuracy: 0.8597 - val_loss: 1.7011 - val_sparse_categorical_accuracy: 0.8644\n",
      "Epoch 5/10\n",
      " 107/7500 [..............................] - ETA: 1:44 - loss: 1.7062 - sparse_categorical_accuracy: 0.8610"
     ]
    },
    {
     "ename": "KeyboardInterrupt",
     "evalue": "",
     "output_type": "error",
     "traceback": [
      "\u001b[1;31m---------------------------------------------------------------------------\u001b[0m",
      "\u001b[1;31mKeyboardInterrupt\u001b[0m                         Traceback (most recent call last)",
      "\u001b[1;32m<ipython-input-38-72b6c6ece2d2>\u001b[0m in \u001b[0;36m<module>\u001b[1;34m\u001b[0m\n\u001b[0;32m      9\u001b[0m                         zScale1 = z1, zScale2 = z2, lam = lam)\n\u001b[0;32m     10\u001b[0m \u001b[0mt\u001b[0m \u001b[1;33m=\u001b[0m \u001b[0mtime\u001b[0m\u001b[1;33m.\u001b[0m\u001b[0mtime\u001b[0m\u001b[1;33m(\u001b[0m\u001b[1;33m)\u001b[0m\u001b[1;33m\u001b[0m\u001b[1;33m\u001b[0m\u001b[0m\n\u001b[1;32m---> 11\u001b[1;33m history        = model2.fit(x_train, y_train,\n\u001b[0m\u001b[0;32m     12\u001b[0m     \u001b[0mbatch_size\u001b[0m \u001b[1;33m=\u001b[0m \u001b[0mbatch_size\u001b[0m\u001b[1;33m,\u001b[0m\u001b[1;33m\u001b[0m\u001b[1;33m\u001b[0m\u001b[0m\n\u001b[0;32m     13\u001b[0m     \u001b[0mshuffle\u001b[0m    \u001b[1;33m=\u001b[0m \u001b[1;32mTrue\u001b[0m\u001b[1;33m,\u001b[0m\u001b[1;33m\u001b[0m\u001b[1;33m\u001b[0m\u001b[0m\n",
      "\u001b[1;32mC:\\ProgramData\\Anaconda3\\envs\\tf_env\\lib\\site-packages\\keras\\utils\\traceback_utils.py\u001b[0m in \u001b[0;36merror_handler\u001b[1;34m(*args, **kwargs)\u001b[0m\n\u001b[0;32m     63\u001b[0m         \u001b[0mfiltered_tb\u001b[0m \u001b[1;33m=\u001b[0m \u001b[1;32mNone\u001b[0m\u001b[1;33m\u001b[0m\u001b[1;33m\u001b[0m\u001b[0m\n\u001b[0;32m     64\u001b[0m         \u001b[1;32mtry\u001b[0m\u001b[1;33m:\u001b[0m\u001b[1;33m\u001b[0m\u001b[1;33m\u001b[0m\u001b[0m\n\u001b[1;32m---> 65\u001b[1;33m             \u001b[1;32mreturn\u001b[0m \u001b[0mfn\u001b[0m\u001b[1;33m(\u001b[0m\u001b[1;33m*\u001b[0m\u001b[0margs\u001b[0m\u001b[1;33m,\u001b[0m \u001b[1;33m**\u001b[0m\u001b[0mkwargs\u001b[0m\u001b[1;33m)\u001b[0m\u001b[1;33m\u001b[0m\u001b[1;33m\u001b[0m\u001b[0m\n\u001b[0m\u001b[0;32m     66\u001b[0m         \u001b[1;32mexcept\u001b[0m \u001b[0mException\u001b[0m \u001b[1;32mas\u001b[0m \u001b[0me\u001b[0m\u001b[1;33m:\u001b[0m\u001b[1;33m\u001b[0m\u001b[1;33m\u001b[0m\u001b[0m\n\u001b[0;32m     67\u001b[0m             \u001b[0mfiltered_tb\u001b[0m \u001b[1;33m=\u001b[0m \u001b[0m_process_traceback_frames\u001b[0m\u001b[1;33m(\u001b[0m\u001b[0me\u001b[0m\u001b[1;33m.\u001b[0m\u001b[0m__traceback__\u001b[0m\u001b[1;33m)\u001b[0m\u001b[1;33m\u001b[0m\u001b[1;33m\u001b[0m\u001b[0m\n",
      "\u001b[1;32mC:\\ProgramData\\Anaconda3\\envs\\tf_env\\lib\\site-packages\\keras\\engine\\training.py\u001b[0m in \u001b[0;36mfit\u001b[1;34m(self, x, y, batch_size, epochs, verbose, callbacks, validation_split, validation_data, shuffle, class_weight, sample_weight, initial_epoch, steps_per_epoch, validation_steps, validation_batch_size, validation_freq, max_queue_size, workers, use_multiprocessing)\u001b[0m\n\u001b[0;32m   1683\u001b[0m                         ):\n\u001b[0;32m   1684\u001b[0m                             \u001b[0mcallbacks\u001b[0m\u001b[1;33m.\u001b[0m\u001b[0mon_train_batch_begin\u001b[0m\u001b[1;33m(\u001b[0m\u001b[0mstep\u001b[0m\u001b[1;33m)\u001b[0m\u001b[1;33m\u001b[0m\u001b[1;33m\u001b[0m\u001b[0m\n\u001b[1;32m-> 1685\u001b[1;33m                             \u001b[0mtmp_logs\u001b[0m \u001b[1;33m=\u001b[0m \u001b[0mself\u001b[0m\u001b[1;33m.\u001b[0m\u001b[0mtrain_function\u001b[0m\u001b[1;33m(\u001b[0m\u001b[0miterator\u001b[0m\u001b[1;33m)\u001b[0m\u001b[1;33m\u001b[0m\u001b[1;33m\u001b[0m\u001b[0m\n\u001b[0m\u001b[0;32m   1686\u001b[0m                             \u001b[1;32mif\u001b[0m \u001b[0mdata_handler\u001b[0m\u001b[1;33m.\u001b[0m\u001b[0mshould_sync\u001b[0m\u001b[1;33m:\u001b[0m\u001b[1;33m\u001b[0m\u001b[1;33m\u001b[0m\u001b[0m\n\u001b[0;32m   1687\u001b[0m                                 \u001b[0mcontext\u001b[0m\u001b[1;33m.\u001b[0m\u001b[0masync_wait\u001b[0m\u001b[1;33m(\u001b[0m\u001b[1;33m)\u001b[0m\u001b[1;33m\u001b[0m\u001b[1;33m\u001b[0m\u001b[0m\n",
      "\u001b[1;32mC:\\ProgramData\\Anaconda3\\envs\\tf_env\\lib\\site-packages\\tensorflow\\python\\util\\traceback_utils.py\u001b[0m in \u001b[0;36merror_handler\u001b[1;34m(*args, **kwargs)\u001b[0m\n\u001b[0;32m    148\u001b[0m     \u001b[0mfiltered_tb\u001b[0m \u001b[1;33m=\u001b[0m \u001b[1;32mNone\u001b[0m\u001b[1;33m\u001b[0m\u001b[1;33m\u001b[0m\u001b[0m\n\u001b[0;32m    149\u001b[0m     \u001b[1;32mtry\u001b[0m\u001b[1;33m:\u001b[0m\u001b[1;33m\u001b[0m\u001b[1;33m\u001b[0m\u001b[0m\n\u001b[1;32m--> 150\u001b[1;33m       \u001b[1;32mreturn\u001b[0m \u001b[0mfn\u001b[0m\u001b[1;33m(\u001b[0m\u001b[1;33m*\u001b[0m\u001b[0margs\u001b[0m\u001b[1;33m,\u001b[0m \u001b[1;33m**\u001b[0m\u001b[0mkwargs\u001b[0m\u001b[1;33m)\u001b[0m\u001b[1;33m\u001b[0m\u001b[1;33m\u001b[0m\u001b[0m\n\u001b[0m\u001b[0;32m    151\u001b[0m     \u001b[1;32mexcept\u001b[0m \u001b[0mException\u001b[0m \u001b[1;32mas\u001b[0m \u001b[0me\u001b[0m\u001b[1;33m:\u001b[0m\u001b[1;33m\u001b[0m\u001b[1;33m\u001b[0m\u001b[0m\n\u001b[0;32m    152\u001b[0m       \u001b[0mfiltered_tb\u001b[0m \u001b[1;33m=\u001b[0m \u001b[0m_process_traceback_frames\u001b[0m\u001b[1;33m(\u001b[0m\u001b[0me\u001b[0m\u001b[1;33m.\u001b[0m\u001b[0m__traceback__\u001b[0m\u001b[1;33m)\u001b[0m\u001b[1;33m\u001b[0m\u001b[1;33m\u001b[0m\u001b[0m\n",
      "\u001b[1;32mC:\\ProgramData\\Anaconda3\\envs\\tf_env\\lib\\site-packages\\tensorflow\\python\\eager\\polymorphic_function\\polymorphic_function.py\u001b[0m in \u001b[0;36m__call__\u001b[1;34m(self, *args, **kwds)\u001b[0m\n\u001b[0;32m    892\u001b[0m \u001b[1;33m\u001b[0m\u001b[0m\n\u001b[0;32m    893\u001b[0m       \u001b[1;32mwith\u001b[0m \u001b[0mOptionalXlaContext\u001b[0m\u001b[1;33m(\u001b[0m\u001b[0mself\u001b[0m\u001b[1;33m.\u001b[0m\u001b[0m_jit_compile\u001b[0m\u001b[1;33m)\u001b[0m\u001b[1;33m:\u001b[0m\u001b[1;33m\u001b[0m\u001b[1;33m\u001b[0m\u001b[0m\n\u001b[1;32m--> 894\u001b[1;33m         \u001b[0mresult\u001b[0m \u001b[1;33m=\u001b[0m \u001b[0mself\u001b[0m\u001b[1;33m.\u001b[0m\u001b[0m_call\u001b[0m\u001b[1;33m(\u001b[0m\u001b[1;33m*\u001b[0m\u001b[0margs\u001b[0m\u001b[1;33m,\u001b[0m \u001b[1;33m**\u001b[0m\u001b[0mkwds\u001b[0m\u001b[1;33m)\u001b[0m\u001b[1;33m\u001b[0m\u001b[1;33m\u001b[0m\u001b[0m\n\u001b[0m\u001b[0;32m    895\u001b[0m \u001b[1;33m\u001b[0m\u001b[0m\n\u001b[0;32m    896\u001b[0m       \u001b[0mnew_tracing_count\u001b[0m \u001b[1;33m=\u001b[0m \u001b[0mself\u001b[0m\u001b[1;33m.\u001b[0m\u001b[0mexperimental_get_tracing_count\u001b[0m\u001b[1;33m(\u001b[0m\u001b[1;33m)\u001b[0m\u001b[1;33m\u001b[0m\u001b[1;33m\u001b[0m\u001b[0m\n",
      "\u001b[1;32mC:\\ProgramData\\Anaconda3\\envs\\tf_env\\lib\\site-packages\\tensorflow\\python\\eager\\polymorphic_function\\polymorphic_function.py\u001b[0m in \u001b[0;36m_call\u001b[1;34m(self, *args, **kwds)\u001b[0m\n\u001b[0;32m    924\u001b[0m       \u001b[1;31m# In this case we have created variables on the first call, so we run the\u001b[0m\u001b[1;33m\u001b[0m\u001b[1;33m\u001b[0m\u001b[1;33m\u001b[0m\u001b[0m\n\u001b[0;32m    925\u001b[0m       \u001b[1;31m# defunned version which is guaranteed to never create variables.\u001b[0m\u001b[1;33m\u001b[0m\u001b[1;33m\u001b[0m\u001b[1;33m\u001b[0m\u001b[0m\n\u001b[1;32m--> 926\u001b[1;33m       \u001b[1;32mreturn\u001b[0m \u001b[0mself\u001b[0m\u001b[1;33m.\u001b[0m\u001b[0m_no_variable_creation_fn\u001b[0m\u001b[1;33m(\u001b[0m\u001b[1;33m*\u001b[0m\u001b[0margs\u001b[0m\u001b[1;33m,\u001b[0m \u001b[1;33m**\u001b[0m\u001b[0mkwds\u001b[0m\u001b[1;33m)\u001b[0m  \u001b[1;31m# pylint: disable=not-callable\u001b[0m\u001b[1;33m\u001b[0m\u001b[1;33m\u001b[0m\u001b[0m\n\u001b[0m\u001b[0;32m    927\u001b[0m     \u001b[1;32melif\u001b[0m \u001b[0mself\u001b[0m\u001b[1;33m.\u001b[0m\u001b[0m_variable_creation_fn\u001b[0m \u001b[1;32mis\u001b[0m \u001b[1;32mnot\u001b[0m \u001b[1;32mNone\u001b[0m\u001b[1;33m:\u001b[0m\u001b[1;33m\u001b[0m\u001b[1;33m\u001b[0m\u001b[0m\n\u001b[0;32m    928\u001b[0m       \u001b[1;31m# Release the lock early so that multiple threads can perform the call\u001b[0m\u001b[1;33m\u001b[0m\u001b[1;33m\u001b[0m\u001b[1;33m\u001b[0m\u001b[0m\n",
      "\u001b[1;32mC:\\ProgramData\\Anaconda3\\envs\\tf_env\\lib\\site-packages\\tensorflow\\python\\eager\\polymorphic_function\\tracing_compiler.py\u001b[0m in \u001b[0;36m__call__\u001b[1;34m(self, *args, **kwargs)\u001b[0m\n\u001b[0;32m    141\u001b[0m       (concrete_function,\n\u001b[0;32m    142\u001b[0m        filtered_flat_args) = self._maybe_define_function(args, kwargs)\n\u001b[1;32m--> 143\u001b[1;33m     return concrete_function._call_flat(\n\u001b[0m\u001b[0;32m    144\u001b[0m         filtered_flat_args, captured_inputs=concrete_function.captured_inputs)  # pylint: disable=protected-access\n\u001b[0;32m    145\u001b[0m \u001b[1;33m\u001b[0m\u001b[0m\n",
      "\u001b[1;32mC:\\ProgramData\\Anaconda3\\envs\\tf_env\\lib\\site-packages\\tensorflow\\python\\eager\\polymorphic_function\\monomorphic_function.py\u001b[0m in \u001b[0;36m_call_flat\u001b[1;34m(self, args, captured_inputs, cancellation_manager)\u001b[0m\n\u001b[0;32m   1755\u001b[0m         and executing_eagerly):\n\u001b[0;32m   1756\u001b[0m       \u001b[1;31m# No tape is watching; skip to running the function.\u001b[0m\u001b[1;33m\u001b[0m\u001b[1;33m\u001b[0m\u001b[1;33m\u001b[0m\u001b[0m\n\u001b[1;32m-> 1757\u001b[1;33m       return self._build_call_outputs(self._inference_function.call(\n\u001b[0m\u001b[0;32m   1758\u001b[0m           ctx, args, cancellation_manager=cancellation_manager))\n\u001b[0;32m   1759\u001b[0m     forward_backward = self._select_forward_and_backward_functions(\n",
      "\u001b[1;32mC:\\ProgramData\\Anaconda3\\envs\\tf_env\\lib\\site-packages\\tensorflow\\python\\eager\\polymorphic_function\\monomorphic_function.py\u001b[0m in \u001b[0;36mcall\u001b[1;34m(self, ctx, args, cancellation_manager)\u001b[0m\n\u001b[0;32m    379\u001b[0m       \u001b[1;32mwith\u001b[0m \u001b[0m_InterpolateFunctionError\u001b[0m\u001b[1;33m(\u001b[0m\u001b[0mself\u001b[0m\u001b[1;33m)\u001b[0m\u001b[1;33m:\u001b[0m\u001b[1;33m\u001b[0m\u001b[1;33m\u001b[0m\u001b[0m\n\u001b[0;32m    380\u001b[0m         \u001b[1;32mif\u001b[0m \u001b[0mcancellation_manager\u001b[0m \u001b[1;32mis\u001b[0m \u001b[1;32mNone\u001b[0m\u001b[1;33m:\u001b[0m\u001b[1;33m\u001b[0m\u001b[1;33m\u001b[0m\u001b[0m\n\u001b[1;32m--> 381\u001b[1;33m           outputs = execute.execute(\n\u001b[0m\u001b[0;32m    382\u001b[0m               \u001b[0mstr\u001b[0m\u001b[1;33m(\u001b[0m\u001b[0mself\u001b[0m\u001b[1;33m.\u001b[0m\u001b[0msignature\u001b[0m\u001b[1;33m.\u001b[0m\u001b[0mname\u001b[0m\u001b[1;33m)\u001b[0m\u001b[1;33m,\u001b[0m\u001b[1;33m\u001b[0m\u001b[1;33m\u001b[0m\u001b[0m\n\u001b[0;32m    383\u001b[0m               \u001b[0mnum_outputs\u001b[0m\u001b[1;33m=\u001b[0m\u001b[0mself\u001b[0m\u001b[1;33m.\u001b[0m\u001b[0m_num_outputs\u001b[0m\u001b[1;33m,\u001b[0m\u001b[1;33m\u001b[0m\u001b[1;33m\u001b[0m\u001b[0m\n",
      "\u001b[1;32mC:\\ProgramData\\Anaconda3\\envs\\tf_env\\lib\\site-packages\\tensorflow\\python\\eager\\execute.py\u001b[0m in \u001b[0;36mquick_execute\u001b[1;34m(op_name, num_outputs, inputs, attrs, ctx, name)\u001b[0m\n\u001b[0;32m     50\u001b[0m   \u001b[1;32mtry\u001b[0m\u001b[1;33m:\u001b[0m\u001b[1;33m\u001b[0m\u001b[1;33m\u001b[0m\u001b[0m\n\u001b[0;32m     51\u001b[0m     \u001b[0mctx\u001b[0m\u001b[1;33m.\u001b[0m\u001b[0mensure_initialized\u001b[0m\u001b[1;33m(\u001b[0m\u001b[1;33m)\u001b[0m\u001b[1;33m\u001b[0m\u001b[1;33m\u001b[0m\u001b[0m\n\u001b[1;32m---> 52\u001b[1;33m     tensors = pywrap_tfe.TFE_Py_Execute(ctx._handle, device_name, op_name,\n\u001b[0m\u001b[0;32m     53\u001b[0m                                         inputs, attrs, num_outputs)\n\u001b[0;32m     54\u001b[0m   \u001b[1;32mexcept\u001b[0m \u001b[0mcore\u001b[0m\u001b[1;33m.\u001b[0m\u001b[0m_NotOkStatusException\u001b[0m \u001b[1;32mas\u001b[0m \u001b[0me\u001b[0m\u001b[1;33m:\u001b[0m\u001b[1;33m\u001b[0m\u001b[1;33m\u001b[0m\u001b[0m\n",
      "\u001b[1;31mKeyboardInterrupt\u001b[0m: "
     ]
    }
   ],
   "source": [
    "#Train properly for best parameter\n",
    "batch_size = 8\n",
    "epochs     = 10\n",
    "\n",
    "dScale1, dScale2, dScale3, z1, z2 = (0.82*28/lam, 0.705*40/lam, 1.102*40/lam, 30.52/lam, 37.4/lam)\n",
    "# Train Model\n",
    "model2      = get_model(input_shape, N_meta = N_meta, N_mesh = 40, \n",
    "                        D_scale1 = dScale1, D_scale2 = dScale2, D_scale3 = dScale3, \n",
    "                        zScale1 = z1, zScale2 = z2, lam = lam)\n",
    "t = time.time()\n",
    "history        = model2.fit(x_train, y_train,\n",
    "    batch_size = batch_size,\n",
    "    shuffle    = True,\n",
    "    verbose    = 1,\n",
    "    epochs     = epochs,\n",
    "    callbacks  = tf.keras.callbacks.EarlyStopping(patience=2),\n",
    "    validation_data = (x_test, y_test))\n",
    "print(\"The training required:\\t\", time.time()-t, \"s\")\n"
   ]
  }
 ],
 "metadata": {
  "kernelspec": {
   "display_name": "Python 3",
   "language": "python",
   "name": "python3"
  },
  "language_info": {
   "codemirror_mode": {
    "name": "ipython",
    "version": 3
   },
   "file_extension": ".py",
   "mimetype": "text/x-python",
   "name": "python",
   "nbconvert_exporter": "python",
   "pygments_lexer": "ipython3",
   "version": "3.8.5"
  }
 },
 "nbformat": 4,
 "nbformat_minor": 4
}
