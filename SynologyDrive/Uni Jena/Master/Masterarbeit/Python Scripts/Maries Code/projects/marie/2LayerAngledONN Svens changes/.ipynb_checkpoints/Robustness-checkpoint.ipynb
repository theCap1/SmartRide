{
 "cells": [
  {
   "cell_type": "code",
   "execution_count": 2,
   "metadata": {},
   "outputs": [],
   "source": [
    "#Packages\n",
    "\n",
    "import numpy as np\n",
    "import importlib\n",
    "import pandas as pd\n",
    "import time\n",
    "import sys, os\n",
    "import matplotlib.pylab as plt\n",
    "from tensorflow.keras.layers import Input, Flatten\n",
    "from tensorflow.keras.models import Model, Sequential\n",
    "sys.path.append(os.path.join(os.path.dirname(os.path.realpath('__file__')), \"..\",\"..\",\"onn\"))\n",
    "import dnn \n",
    "import tensorflow as tf\n"
   ]
  },
  {
   "cell_type": "code",
   "execution_count": 3,
   "metadata": {},
   "outputs": [],
   "source": [
    "#Define Model, Detector and Trainingsdata\n",
    "def getDetector(N_mesh = 28):\n",
    "    detector = pd.read_csv(os.path.join(\"..\",\"..\",\"detector_masks\",'detector_template_28.txt'), \n",
    "                       index_col=0, dtype=np.float32,low_memory=False)\n",
    "    detector_template = detector.iloc[1:, ].values.astype('float32')\n",
    "    \n",
    "    #Original size of detector\n",
    "    orig_size = int(np.sqrt(np.shape(detector_template)[-1]))\n",
    "    #resize detector to desitred meshing\n",
    "    detector_template = tf.reshape(detector_template, (-1,orig_size, orig_size, 1))\n",
    "    detector_template = tf.keras.layers.Resizing(N_mesh, N_mesh, interpolation=\"nearest\")(detector_template)\n",
    "    detector = tf.reshape(detector, (-1,orig_size, orig_size, 1))\n",
    "    detector = tf.keras.layers.Resizing(N_mesh, N_mesh, interpolation=\"nearest\")(detector)\n",
    "    \n",
    "    return tf.reshape(detector,(-1,N_mesh*N_mesh)),tf.reshape(detector_template,(-1,N_mesh*N_mesh))\n",
    "\n",
    "def get_model(input_shape, N_meta, N_mesh, D_scale1, D_scale2, D_scale3, zScale1, zScale2, lam, zVar = 0):\n",
    "\n",
    "    #Get Detector\n",
    "    _, detector = getDetector(N_mesh)\n",
    "\n",
    "    # Define the Model Layers\n",
    "    input_layer = Input(shape = input_shape)\n",
    "    x = Flatten()(tf.cast(input_layer, tf.complex64))\n",
    "    x = dnn.Meta(N_mesh = input_shape[0], N_meta = N_meta)(x)\n",
    "    x = dnn.FreeSpacePropagation(N_mesh_in  = input_shape[0], N_mesh_out = N_mesh, \n",
    "                                 D_scale_in = D_scale1, D_scale_out = D_scale2, \n",
    "                                 lam  = lam, zScale   = zScale1)(x)\n",
    "    x = dnn.Meta(N_mesh = N_mesh, N_meta = N_meta)(x)\n",
    "    x = dnn.FreeSpacePropagation(N_mesh_in  = N_mesh, N_mesh_out = N_mesh, \n",
    "                                 D_scale_in = D_scale1, D_scale_out = D_scale3,  \n",
    "                                 lam  = lam, zScale   = zScale2, zVar = zVar)(x)\n",
    "    output_layer = dnn.ToDetector(detector)(x)\n",
    "    \n",
    "    # Build Model\n",
    "    model = Model(inputs=input_layer, outputs=output_layer, name=\"model\")\n",
    "\n",
    "\n",
    "    # Optimize Parameters\n",
    "    learning_rate = 0.001\n",
    "    optimizer     = tf.keras.optimizers.Adam(learning_rate)\n",
    "    metrics       = [tf.keras.metrics.SparseCategoricalAccuracy()]\n",
    "    loss          = tf.keras.losses.SparseCategoricalCrossentropy(from_logits=True)\n",
    "\n",
    "    # Compile Model\n",
    "    model.compile(\n",
    "        optimizer=optimizer,\n",
    "        loss=loss,\n",
    "        metrics=metrics)\n",
    "\n",
    "    return model\n",
    "    \n",
    "# Trainings and Validation Data\n",
    "(x_train, y_train), (x_test, y_test) = tf.keras.datasets.mnist.load_data()\n",
    "x_train = x_train.astype(\"float64\") / 255.0 \n",
    "x_test  = x_test.astype(\"float64\") / 255.0  \n",
    "input_shape = x_test[0].shape\n",
    "\n",
    "#Detector\n",
    "detector, detector_template = getDetector()\n"
   ]
  },
  {
   "cell_type": "markdown",
   "metadata": {},
   "source": [
    "### 0. Test Model and Weight Transfer"
   ]
  },
  {
   "cell_type": "code",
   "execution_count": 3,
   "metadata": {},
   "outputs": [
    {
     "name": "stdout",
     "output_type": "stream",
     "text": [
      "Model: \"model\"\n",
      "____________________________________________________________________________\n",
      " Layer (type)                Output Shape              Param #   Trainable  \n",
      "============================================================================\n",
      " input_1 (InputLayer)        [(None, 28, 28)]          0         Y          \n",
      "                                                                            \n",
      " tf.cast (TFOpLambda)        (None, 28, 28)            0         Y          \n",
      "                                                                            \n",
      " flatten (Flatten)           (None, 784)               0         Y          \n",
      "                                                                            \n",
      " meta (Meta)                 (None, 784)               1568      Y          \n",
      "                                                                            \n",
      " free_space_propagation (Fre  (None, 1600)             0         Y          \n",
      " eSpacePropagation)                                                         \n",
      "                                                                            \n",
      " meta_1 (Meta)               (None, 1600)              1568      Y          \n",
      "                                                                            \n",
      " free_space_propagation_1 (F  (None, 1600)             0         Y          \n",
      " reeSpacePropagation)                                                       \n",
      "                                                                            \n",
      " to_detector (ToDetector)    (None, 10)                0         Y          \n",
      "                                                                            \n",
      "============================================================================\n",
      "Total params: 3,136\n",
      "Trainable params: 1,568\n",
      "Non-trainable params: 1,568\n",
      "____________________________________________________________________________\n"
     ]
    }
   ],
   "source": [
    "#Model Parameters from optimization\n",
    "#Physical Parameters\n",
    "lam        = 0.785                 #wavelength in µm\n",
    "N_input    = np.shape(x_train)[-1] #number of input pixels, in one dimension\n",
    "N_meta     = 28                    #number of output pixels, in one dimension\n",
    "D_scale1   = 18.31/lam\n",
    "D_scale2   = 21.76/lam\n",
    "D_scale3   = 22.27/lam\n",
    "N_mesh     = 40\n",
    "zScale1    = 30.55/lam   #interlayer distance as a factor of lamda\n",
    "zScale2    = 37.15/lam   #interlayer distance as a factor of lamda\n",
    "\n",
    "#Load Model based on optimization Parameters\n",
    "model      = get_model(input_shape,  N_meta = N_meta, N_mesh = N_mesh, \n",
    "                D_scale1 = D_scale1, D_scale2 = D_scale2, D_scale3 = D_scale3, \n",
    "                       zScale1 = zScale1, zScale2 = zScale2, lam = lam)\n",
    "Model.summary(model, expand_nested=True, show_trainable=True)"
   ]
  },
  {
   "cell_type": "code",
   "execution_count": 5,
   "metadata": {},
   "outputs": [
    {
     "name": "stdout",
     "output_type": "stream",
     "text": [
      "Validation Loss/Accuracy\n",
      "1250/1250 [==============================] - 15s 6ms/step - loss: 1.6560 - sparse_categorical_accuracy: 0.8794\n",
      "Trainings Loss/Accuracy\n",
      "7500/7500 [==============================] - 44s 6ms/step - loss: 1.6595 - sparse_categorical_accuracy: 0.8771\n"
     ]
    },
    {
     "data": {
      "text/plain": [
       "[1.6595110893249512, 0.877133309841156]"
      ]
     },
     "execution_count": 5,
     "metadata": {},
     "output_type": "execute_result"
    }
   ],
   "source": [
    "batch_size = 8\n",
    "\n",
    "#Get Weights\n",
    "phases = np.reshape(np.load(\"Optim_28x28_new.npy\"),(2,-1))\n",
    "\n",
    "'''#Performance before training\n",
    "print(\"Validation Loss/Accuracy\")\n",
    "model.evaluate(x_test, y_test, batch_size=batch_size)\n",
    "print(\"Trainings Loss/Accuracy\")\n",
    "model.evaluate(x_train, y_train, batch_size=batch_size)'''\n",
    "\n",
    "#Tranfer Weights (a bit unfortunate since i only saved phases)\n",
    "weights      = model.get_weights()\n",
    "weights[0]   = phases[0]\n",
    "weights[2]   = phases[1]\n",
    "model.set_weights(weights)\n",
    "    \n",
    "#Test accuracy again\n",
    "print(\"Validation Loss/Accuracy\")\n",
    "model.evaluate(x_test, y_test, batch_size=batch_size)\n",
    "print(\"Trainings Loss/Accuracy\")\n",
    "model.evaluate(x_train, y_train, batch_size=batch_size)\n"
   ]
  },
  {
   "cell_type": "markdown",
   "metadata": {},
   "source": [
    "## 1 Robustness with regards to propagation length to detector \n",
    "## 1.1 trained without robustness"
   ]
  },
  {
   "cell_type": "code",
   "execution_count": 78,
   "metadata": {},
   "outputs": [
    {
     "name": "stdout",
     "output_type": "stream",
     "text": [
      "-20.0, -19.0, -18.0, -17.0, -16.0, -15.0, -14.0, -13.0, -12.0, -11.0, -10.0, -9.0, -8.0, -7.0, -6.0, -5.0, -4.0, -3.0, -2.0, -1.0, 0.0, 1.0, 2.0, 3.0, 4.0, 5.0, 6.0, 7.0, 8.0, 9.0, 10.0, 11.0, 12.0, 13.0, 14.0, 15.0, 16.0, 17.0, 18.0, 19.0, 20.0, "
     ]
    }
   ],
   "source": [
    "#Get Weights\n",
    "batch_size   = 500\n",
    "phases       = np.reshape(np.load(\"Optim_28x28_new.npy\"),(2,-1))\n",
    "weights      = model.get_weights()\n",
    "weights[0]   = phases[0]\n",
    "weights[2]   = phases[1]\n",
    "\n",
    "#Test Robustness against input and output distance (in units of wavelength)\n",
    "del_z_out = np.linspace(-20,20,41)\n",
    "\n",
    "accuracies = np.zeros((2,2,len(del_z_out)))\n",
    "for i,err_z in enumerate(del_z_out):\n",
    "    print(err_z, end=\", \")\n",
    "    #Load Model with other parameters\n",
    "    model      = get_model(input_shape,  N_meta = N_meta, N_mesh = N_mesh, \n",
    "                D_scale1 = D_scale1, D_scale2 = D_scale2, D_scale3 = D_scale3, \n",
    "                       zScale1 = zScale1, zScale2 = zScale2+err_z, lam = lam)    \n",
    "    model.set_weights(weights)\n",
    "\n",
    "    #Test accuracy\n",
    "    accuracies[1,:,i]= model.evaluate(x_test, y_test, batch_size = 500, verbose = False)\n",
    "    accuracies[0,:,i] = model.evaluate(x_train, y_train, batch_size = 500, verbose = False)\n",
    "    tf.keras.backend.clear_session()"
   ]
  },
  {
   "cell_type": "code",
   "execution_count": 79,
   "metadata": {},
   "outputs": [
    {
     "data": {
      "image/png": "[encoded data removed]",
      "text/plain": [
       "<Figure size 432x288 with 2 Axes>"
      ]
     },
     "metadata": {
      "needs_background": "light"
     },
     "output_type": "display_data"
    },
    {
     "data": {
      "image/png": "[encoded data removed]",
      "text/plain": [
       "<Figure size 432x288 with 2 Axes>"
      ]
     },
     "metadata": {
      "needs_background": "light"
     },
     "output_type": "display_data"
    }
   ],
   "source": [
    "#Vizualize results\n",
    "\n",
    "x = del_z_out*lam\n",
    "\n",
    "#Loss & accuracy in units uf µm ann lambda\n",
    "for i, label in enumerate([\"loss\",\"accuracy\"]):\n",
    "    fig, ax = plt.subplots()\n",
    "    ax.plot(x,accuracies[0,i,:], label = \"training\")\n",
    "    ax.plot(x,accuracies[1,i,:], label = \"validation\")\n",
    "    ax.set_ylabel(label)\n",
    "    ax.set_xlabel(r\"$\\Delta$z [µm]\")\n",
    "    ax.legend()\n",
    "    ax.grid()\n",
    "    mn, mx = ax.get_xlim()\n",
    "    ax2 = ax.twiny()\n",
    "    ax2.set_xlim(mn/lam, mx/lam)\n",
    "    ax2.set_xlabel(r\"$\\Delta$z [$\\lambda$]\")\n",
    "    fig.tight_layout() \n",
    "    plt.show()\n",
    "    plt.close()"
   ]
  },
  {
   "cell_type": "code",
   "execution_count": 80,
   "metadata": {},
   "outputs": [],
   "source": [
    "res = {\"del_zScales\": del_z_out, \"accuracies\" : accuracies}\n",
    "np.save('z_influence.npy', res) "
   ]
  },
  {
   "cell_type": "markdown",
   "metadata": {},
   "source": [
    "## 1.2 trained WITH robustness"
   ]
  },
  {
   "cell_type": "code",
   "execution_count": 4,
   "metadata": {},
   "outputs": [
    {
     "name": "stdout",
     "output_type": "stream",
     "text": [
      "47.324840764331206\n"
     ]
    },
    {
     "data": {
      "text/plain": [
       "(array([   7.,   50.,  310., 1108., 2363., 2882., 2171.,  868.,  215.,\n",
       "          26.]),\n",
       " array([16.50547519, 22.21771325, 27.92995131, 33.64218938, 39.35442744,\n",
       "        45.0666655 , 50.77890356, 56.49114162, 62.20337968, 67.91561775,\n",
       "        73.62785581]),\n",
       " <BarContainer object of 10 artists>)"
      ]
     },
     "execution_count": 4,
     "metadata": {},
     "output_type": "execute_result"
    },
    {
     "data": {
      "image/png": "[encoded data removed]",
      "text/plain": [
       "<Figure size 432x288 with 1 Axes>"
      ]
     },
     "metadata": {
      "needs_background": "light"
     },
     "output_type": "display_data"
    }
   ],
   "source": [
    "#Check That varince in z is reasonable\n",
    "lam = 0.785\n",
    "loc = 37.15/lam \n",
    "print(loc)\n",
    "scale = 7.5\n",
    "a = []\n",
    "for i in range(10000):\n",
    "    a.append(np.random.normal(loc=loc, scale=scale)) \n",
    "    \n",
    "plt.figure()\n",
    "plt.xlabel(\"distance to detector\")\n",
    "plt.ylabel(\"count\")\n",
    "plt.grid()\n",
    "plt.hist(a)"
   ]
  },
  {
   "cell_type": "code",
   "execution_count": 5,
   "metadata": {},
   "outputs": [],
   "source": [
    "#Parameters\n",
    "lam        = 0.785                 #wavelength in µm\n",
    "N_input    = np.shape(x_train)[-1] #number of input pixels, in one dimension\n",
    "N_meta     = 28                    #number of output pixels, in one dimension\n",
    "D_scale1   = 18.31/lam\n",
    "D_scale2   = 21.76/lam\n",
    "D_scale3   = 22.27/lam\n",
    "N_mesh     = 40\n",
    "zScale1    = 30.55/lam   #interlayer distance as a factor of lamda\n",
    "zScale2    = 37.15/lam   #interlayer distance as a factor of lamda\n",
    "zVar       = 7.5"
   ]
  },
  {
   "cell_type": "code",
   "execution_count": 45,
   "metadata": {},
   "outputs": [
    {
     "name": "stdout",
     "output_type": "stream",
     "text": [
      "Epoch 1/10\n",
      "120/120 [==============================] - 58s 361ms/step - loss: 2.2047 - sparse_categorical_accuracy: 0.2425 - val_loss: 1.9848 - val_sparse_categorical_accuracy: 0.4758\n",
      "Epoch 2/10\n",
      "120/120 [==============================] - 34s 280ms/step - loss: 1.8755 - sparse_categorical_accuracy: 0.6309 - val_loss: 1.8179 - val_sparse_categorical_accuracy: 0.6991\n",
      "Epoch 3/10\n",
      "120/120 [==============================] - 35s 290ms/step - loss: 1.7810 - sparse_categorical_accuracy: 0.7538 - val_loss: 1.7647 - val_sparse_categorical_accuracy: 0.7714\n",
      "Epoch 4/10\n",
      "120/120 [==============================] - 36s 298ms/step - loss: 1.7465 - sparse_categorical_accuracy: 0.7949 - val_loss: 1.7429 - val_sparse_categorical_accuracy: 0.7988\n",
      "Epoch 5/10\n",
      "120/120 [==============================] - 35s 289ms/step - loss: 1.7295 - sparse_categorical_accuracy: 0.8148 - val_loss: 1.7282 - val_sparse_categorical_accuracy: 0.8183\n",
      "Epoch 6/10\n",
      "120/120 [==============================] - 34s 286ms/step - loss: 1.7179 - sparse_categorical_accuracy: 0.8286 - val_loss: 1.7169 - val_sparse_categorical_accuracy: 0.8314\n",
      "Epoch 7/10\n",
      "120/120 [==============================] - 35s 289ms/step - loss: 1.7089 - sparse_categorical_accuracy: 0.8381 - val_loss: 1.7085 - val_sparse_categorical_accuracy: 0.8427\n",
      "Epoch 8/10\n",
      "120/120 [==============================] - 34s 285ms/step - loss: 1.7016 - sparse_categorical_accuracy: 0.8453 - val_loss: 1.7019 - val_sparse_categorical_accuracy: 0.8468\n",
      "Epoch 9/10\n",
      "120/120 [==============================] - 34s 284ms/step - loss: 1.6958 - sparse_categorical_accuracy: 0.8506 - val_loss: 1.6981 - val_sparse_categorical_accuracy: 0.8471\n",
      "Epoch 10/10\n",
      "120/120 [==============================] - 35s 289ms/step - loss: 1.6914 - sparse_categorical_accuracy: 0.8534 - val_loss: 1.6930 - val_sparse_categorical_accuracy: 0.8531\n",
      "The training required:\t 369.1080017089844 s\n"
     ]
    }
   ],
   "source": [
    "importlib.reload(dnn)\n",
    "\n",
    "#Load Model based on optimization Parameters\n",
    "model      = get_model(input_shape,  N_meta = N_meta, N_mesh = N_mesh, \n",
    "                D_scale1 = D_scale1, D_scale2 = D_scale2, D_scale3 = D_scale3, \n",
    "                       zScale1 = zScale1, zScale2 = zScale2, lam = lam, zVar = zVar)\n",
    "\n",
    "#Train Model\n",
    "batch_size = 500 #Bigger Batch size to average over variance in z\n",
    "epochs     = 10\n",
    "\n",
    "# Train Model\n",
    "t = time.time()\n",
    "history        = model.fit(x_train, y_train,\n",
    "    batch_size = batch_size,\n",
    "    shuffle    = True,\n",
    "    verbose    = 1,\n",
    "    epochs     = epochs,\n",
    "    callbacks  = tf.keras.callbacks.EarlyStopping(patience=2),\n",
    "    validation_data = (x_test, y_test))\n",
    "print(\"The training required:\\t\", time.time()-t, \"s\")\n"
   ]
  },
  {
   "cell_type": "code",
   "execution_count": 46,
   "metadata": {},
   "outputs": [],
   "source": [
    "#Get Weights\n",
    "weights = model.get_weights()\n",
    "\n",
    "#Save Weights\n",
    "np.save(\"Optim_28x28_robust_\"+str(zVar)+\".npy\", weights)"
   ]
  },
  {
   "cell_type": "code",
   "execution_count": 47,
   "metadata": {},
   "outputs": [
    {
     "name": "stdout",
     "output_type": "stream",
     "text": [
      "-20.0, -19.0, -18.0, -17.0, -16.0, -15.0, -14.0, -13.0, -12.0, -11.0, -10.0, -9.0, -8.0, -7.0, -6.0, -5.0, -4.0, -3.0, -2.0, -1.0, 0.0, 1.0, 2.0, 3.0, 4.0, 5.0, 6.0, 7.0, 8.0, 9.0, 10.0, 11.0, 12.0, 13.0, 14.0, 15.0, 16.0, 17.0, 18.0, 19.0, 20.0, "
     ]
    }
   ],
   "source": [
    "#Get Weights\n",
    "weights      = np.load(\"Optim_28x28_robust_\"+str(zVar)+\".npy\")\n",
    "\n",
    "#Test Robustness against input and output distance (in units of wavelength)\n",
    "del_z_out = np.linspace(-20,20,41)\n",
    "\n",
    "accuracies = np.zeros((2,2,len(del_z_out)))\n",
    "for i,err_z in enumerate(del_z_out):\n",
    "    print(err_z, end=\", \")\n",
    "    #Load Model with other parameters\n",
    "    model      = get_model(input_shape,  N_meta = N_meta, N_mesh = N_mesh, \n",
    "                D_scale1 = D_scale1, D_scale2 = D_scale2, D_scale3 = D_scale3, \n",
    "                       zScale1 = zScale1, zScale2 = zScale2+err_z, lam = lam)    \n",
    "    model.set_weights(weights)\n",
    "\n",
    "    #Test accuracy\n",
    "    accuracies[1,:,i]= model.evaluate(x_test, y_test, batch_size = 500, verbose = False)\n",
    "    accuracies[0,:,i] = model.evaluate(x_train, y_train, batch_size = 500, verbose = False)\n",
    "    tf.keras.backend.clear_session()"
   ]
  },
  {
   "cell_type": "code",
   "execution_count": 48,
   "metadata": {},
   "outputs": [],
   "source": [
    "res = {\"del_zScales\": del_z_out, \"accuracies\" : accuracies}\n",
    "np.save('z_influence_zVar_'+str(zVar)+'.npy', res) "
   ]
  },
  {
   "cell_type": "code",
   "execution_count": 49,
   "metadata": {},
   "outputs": [
    {
     "data": {
      "image/png": "[encoded data removed]",
      "text/plain": [
       "<Figure size 432x288 with 3 Axes>"
      ]
     },
     "metadata": {
      "needs_background": "light"
     },
     "output_type": "display_data"
    }
   ],
   "source": [
    "#Vizualize results\n",
    "\n",
    "x = del_z_out*lam\n",
    "files = ['z_influence_zVar_'+str(zVar)+'.npy','z_influence.npy' ]\n",
    "labels = [\"robust\", \"normal\"]\n",
    "fig, ax = plt.subplots()\n",
    "for file,label in zip(files, labels):\n",
    "    data = np.load(file,allow_pickle=True)\n",
    "    accuracies = data.item()['accuracies']\n",
    "    #Accuracy in units uf µm ann lambda\n",
    "    #ax.plot(x, accuracies[0,1,:], label = \"training \" +label)\n",
    "    ax.plot(x, accuracies[1,1,:], label = \"validation \"+label)\n",
    "    ax.set_ylabel(label)\n",
    "    ax.set_xlabel(r\"$\\Delta$z [µm]\")\n",
    "    mn, mx = ax.get_xlim()\n",
    "    ax2 = ax.twiny()\n",
    "    ax2.set_xlim(mn/lam, mx/lam)\n",
    "    ax2.set_xlabel(r\"$\\Delta$z [$\\lambda$]\")\n",
    "ax.legend()\n",
    "ax.grid()\n",
    "fig.tight_layout() \n",
    "plt.show()\n",
    "plt.close()"
   ]
  },
  {
   "cell_type": "markdown",
   "metadata": {},
   "source": [
    "## 1.3 Influence of Pixelsize (not trained for robustness\n",
    "\n",
    "BEAWARE THAT THE zZ VALUE IS STATIC IE THE PARAMETERS ARE NOT OPTIMAL FOR THE GIVEN METASURFACESIZE"
   ]
  },
  {
   "cell_type": "code",
   "execution_count": 6,
   "metadata": {},
   "outputs": [
    {
     "name": "stdout",
     "output_type": "stream",
     "text": [
      "[14.         16.17777778 18.35555556 20.53333333 22.71111111 24.88888889\n",
      " 27.06666667 29.24444444 31.42222222]\n",
      "[27.719745222929937, 27.719745222929937, 27.719745222929937, 27.719745222929937, 27.719745222929937, 27.719745222929937, 27.719745222929937, 27.719745222929937, 27.719745222929937]\n",
      "[28 32 36 41 45 49 54 58 62]\n"
     ]
    }
   ],
   "source": [
    "#Parameters\n",
    "lam        = 0.785                 #wavelength in µm\n",
    "N_input    = np.shape(x_train)[-1] #number of input pixels, in one dimension\n",
    "N_meta     = 28                    #number of output pixels, in one dimension\n",
    "D_scale1   = 18.31/lam   #lateral size input image\n",
    "D_scale3   = 22.27/lam   #lateral size  on detector\n",
    "zScale1    = 30.55/lam   #interlayer distance as a factor of lamda\n",
    "zVar       = 0\n",
    "D_scales2 = np.linspace(28/2,28*1.2,10)[0:-1] #lateral size metalayer\n",
    "N_meshs   = (np.ones(len(D_scales2))*D_scales2*2).astype(int)\n",
    "zScales2  = [21.76/lam]*len(D_scales2) #distance meta dectector\n",
    "\n",
    "print(D_scales2)\n",
    "print(zScales2)\n",
    "print(N_meshs)"
   ]
  },
  {
   "cell_type": "code",
   "execution_count": 7,
   "metadata": {},
   "outputs": [
    {
     "name": "stdout",
     "output_type": "stream",
     "text": [
      "Optim_28x28_D_scale_14.npy\n",
      "Optim_28x28_D_scale_16.npy\n",
      "Optim_28x28_D_scale_18.npy\n",
      "Optim_28x28_D_scale_21.npy\n",
      "Optim_28x28_D_scale_23.npy\n",
      "Optim_28x28_D_scale_25.npy\n",
      "Optim_28x28_D_scale_27.npy\n",
      "Optim_28x28_D_scale_29.npy\n",
      "Optim_28x28_D_scale_31.npy\n"
     ]
    }
   ],
   "source": [
    "# Now I train for each Dscale zScale duo\n",
    "for D_scale2,zScale2,N_mesh in zip(D_scales2,zScales2,N_meshs):\n",
    "    #print(D_scale2,zScale2,N_mesh)\n",
    "    \n",
    "    file = \"Optim_28x28_D_scale_\"+str(round(D_scale2))+\".npy\"\n",
    "    \n",
    "    if os.path.isfile(file):\n",
    "        print(file)\n",
    "        continue\n",
    "    #Load Model based on optimization Parameters\n",
    "    model      = get_model(input_shape,  N_meta = N_meta, N_mesh = N_mesh, \n",
    "                    D_scale1 = D_scale1, D_scale2 = D_scale2, D_scale3 = D_scale3, \n",
    "                           zScale1 = zScale1, zScale2 = zScale2, lam = lam)\n",
    "\n",
    "    #Train Model\n",
    "    batch_size = 8\n",
    "    epochs     = 5\n",
    "\n",
    "    # Train Model\n",
    "    t = time.time()\n",
    "    history        = model.fit(x_train, y_train,\n",
    "        batch_size = batch_size,\n",
    "        shuffle    = True,\n",
    "        verbose    = 1,\n",
    "        epochs     = epochs,\n",
    "        callbacks  = tf.keras.callbacks.EarlyStopping(patience=2),\n",
    "        validation_data = (x_test, y_test))\n",
    "    print(\"The training required:\\t\", time.time()-t, \"s\")\n",
    "\n",
    "    #Get Weights\n",
    "    weights = model.get_weights()\n",
    "\n",
    "    np.save(file, weights)"
   ]
  },
  {
   "cell_type": "code",
   "execution_count": null,
   "metadata": {},
   "outputs": [
    {
     "name": "stdout",
     "output_type": "stream",
     "text": [
      "z_influence_D_scale_14.npy\n",
      "z_influence_D_scale_14.npy\n",
      "z_influence_D_scale_16.npy\n",
      "z_influence_D_scale_16.npy\n",
      "z_influence_D_scale_18.npy\n",
      "z_influence_D_scale_18.npy\n",
      "z_influence_D_scale_21.npy\n",
      "-20.0, -19.0, "
     ]
    }
   ],
   "source": [
    "#Get ACCURACY FOR VARIATION (VALIDATION ONLY)\n",
    "\n",
    "for D_scale2,zScale2,N_mesh in zip(D_scales2,zScales2,N_meshs):\n",
    "    weights      = np.load(\"Optim_28x28_D_scale_\"+str(round(D_scale2))+\".npy\")\n",
    "    \n",
    "    file = \"z_influence_D_scale_\"+str(round(D_scale2))+\".npy\"\n",
    "    print(file)\n",
    "    #if os.path.isfile(file):\n",
    "    #    print(file)\n",
    "    #    continue\n",
    "        \n",
    "    #Test Robustness against input and output distance (in units of wavelength)\n",
    "    del_z_out = np.linspace(-20,20,41)\n",
    "    \n",
    "    accuracies = np.zeros((2,len(del_z_out)))\n",
    "    for i,err_z in enumerate(del_z_out):\n",
    "        print(err_z, end=\", \")\n",
    "        #Load Model with other parameters\n",
    "        model      = get_model(input_shape,  N_meta = N_meta, N_mesh = N_mesh, \n",
    "                    D_scale1 = D_scale1, D_scale2 = D_scale2, D_scale3 = D_scale3, \n",
    "                           zScale1 = zScale1, zScale2 = zScale2+err_z, lam = lam)    \n",
    "        model.set_weights(weights)\n",
    "    \n",
    "        #Test accuracy\n",
    "        accuracies[:,i]= model.evaluate(x_test, y_test, batch_size = 500, verbose = False)\n",
    "        #accuracies[0,:,i] = model.evaluate(x_train, y_train, batch_size = 500, verbose = False)\n",
    "        tf.keras.backend.clear_session()\n",
    "        res = {\"del_zScales\": del_z_out, \"accuracies\" : accuracies}\n",
    "        np.save(file, res) "
   ]
  },
  {
   "cell_type": "code",
   "execution_count": null,
   "metadata": {},
   "outputs": [],
   "source": [
    "#Vizualize results (VALIDATION only)\n",
    "\n",
    "for D_scale2 in D_scales2:\n",
    "    x = del_z_out*lam\n",
    "    #Load results\n",
    "    accuracies = np.load(\"z_influence_D_scale_\"+str(round(D_scale2)=+\".npy\")\n",
    "    #Loss & accuracy in units uf µm ann lambda\n",
    "    for i, label in enumerate([\"loss\",\"accuracy\"]):\n",
    "        fig, ax = plt.subplots()\n",
    "        ax.plot(x,accuracies[i,:], label = str(D_scale2))\n",
    "        #ax.plot(x,accuracies[i,:], label = \"validation\")\n",
    "        ax.set_ylabel(label)\n",
    "        ax.set_xlabel(r\"$\\Delta$z [µm]\")\n",
    "        ax.legend()\n",
    "        ax.grid()\n",
    "        mn, mx = ax.get_xlim()\n",
    "        ax2 = ax.twiny()\n",
    "        ax2.set_xlim(mn/lam, mx/lam)\n",
    "        ax2.set_xlabel(r\"$\\Delta$z [$\\lambda$]\")\n",
    "        fig.tight_layout() \n",
    "        plt.show()\n",
    "        plt.close()"
   ]
  },
  {
   "cell_type": "markdown",
   "metadata": {},
   "source": [
    "### Robustness with regards to Magnification of input image\n",
    "\n",
    "During imaging what could happen is, that the image is slightly magnified or demagnified due to distances not set c"
   ]
  },
  {
   "cell_type": "code",
   "execution_count": 127,
   "metadata": {},
   "outputs": [],
   "source": [
    "#For all images at once\n",
    "def myZoom(images, zoom = 1):\n",
    "    \n",
    "    dim = images.shape[1::][0]\n",
    "    \n",
    "    if zoom > 1:\n",
    "        resized = tf.squeeze(tf.image.resize(tf.expand_dims(images,-1), \n",
    "                                               [round(zoom*dim),round(zoom*dim)], \n",
    "                                               method='nearest', \n",
    "                                               preserve_aspect_ratio = True))\n",
    "        start     = round(0.5*(zoom*dim-dim))\n",
    "        stop = start + dim\n",
    "        images    = resized[:,start:stop,start:stop]\n",
    "        \n",
    "    elif zoom < 1:  \n",
    "        val = 20\n",
    "        paddings = tf.constant([[0,0],[val, val], [val, val]])\n",
    "        images   = tf.pad(images, paddings, \"CONSTANT\")\n",
    "        \n",
    "    return images\n",
    "        "
   ]
  },
  {
   "cell_type": "code",
   "execution_count": 129,
   "metadata": {},
   "outputs": [
    {
     "data": {
      "image/png": "[encoded data removed]",
      "text/plain": [
       "<Figure size 432x288 with 1 Axes>"
      ]
     },
     "metadata": {
      "needs_background": "light"
     },
     "output_type": "display_data"
    },
    {
     "data": {
      "image/png": "[encoded data removed]",
      "text/plain": [
       "<Figure size 432x288 with 1 Axes>"
      ]
     },
     "metadata": {
      "needs_background": "light"
     },
     "output_type": "display_data"
    },
    {
     "data": {
      "image/png": "[encoded data removed]",
      "text/plain": [
       "<Figure size 432x288 with 1 Axes>"
      ]
     },
     "metadata": {
      "needs_background": "light"
     },
     "output_type": "display_data"
    }
   ],
   "source": [
    "#Test Magnification\n",
    "\n",
    "#First I Use more pixels to represent our input\n",
    "zoom = 1.25\n",
    "dim = x_test[0].shape[0]\n",
    "\n",
    "\n",
    "#Original Image\n",
    "plt.figure()\n",
    "plt.imshow(x_test[0])\n",
    "plt.show()\n",
    "plt.close()\n",
    "\n",
    "#Demagnified Image\n",
    "plt.figure()\n",
    "plt.imshow(myZoom(x_test, zoom = 0.75)[0])\n",
    "plt.show()\n",
    "plt.close()\n",
    "\n",
    "#Magnified Image\n",
    "plt.figure()\n",
    "plt.imshow(myZoom(x_test, zoom = 1.25)[0])\n",
    "plt.show()\n",
    "plt.close()"
   ]
  },
  {
   "cell_type": "code",
   "execution_count": 133,
   "metadata": {},
   "outputs": [
    {
     "data": {
      "text/plain": [
       "array([0.8 , 0.81, 0.82, 0.83, 0.84, 0.85, 0.86, 0.87, 0.88, 0.89, 0.9 ,\n",
       "       0.91, 0.92, 0.93, 0.94, 0.95, 0.96, 0.97, 0.98, 0.99, 1.  , 1.01,\n",
       "       1.02, 1.03, 1.04, 1.05, 1.06, 1.07, 1.08, 1.09, 1.1 , 1.11, 1.12,\n",
       "       1.13, 1.14, 1.15, 1.16, 1.17, 1.18, 1.19, 1.2 ])"
      ]
     },
     "execution_count": 133,
     "metadata": {},
     "output_type": "execute_result"
    }
   ],
   "source": [
    "magnification = np.linspace(0.8,1.2,41)"
   ]
  },
  {
   "cell_type": "code",
   "execution_count": 139,
   "metadata": {},
   "outputs": [
    {
     "name": "stdout",
     "output_type": "stream",
     "text": [
      "0.8, "
     ]
    },
    {
     "ename": "ValueError",
     "evalue": "in user code:\n\n    File \"C:\\Users\\braasch\\AppData\\Roaming\\Python\\Python38\\site-packages\\keras\\engine\\training.py\", line 1852, in test_function  *\n        return step_function(self, iterator)\n    File \"C:\\Users\\braasch\\AppData\\Roaming\\Python\\Python38\\site-packages\\keras\\engine\\training.py\", line 1836, in step_function  **\n        outputs = model.distribute_strategy.run(run_step, args=(data,))\n    File \"C:\\Users\\braasch\\AppData\\Roaming\\Python\\Python38\\site-packages\\keras\\engine\\training.py\", line 1824, in run_step  **\n        outputs = model.test_step(data)\n    File \"C:\\Users\\braasch\\AppData\\Roaming\\Python\\Python38\\site-packages\\keras\\engine\\training.py\", line 1788, in test_step\n        y_pred = self(x, training=False)\n    File \"C:\\Users\\braasch\\AppData\\Roaming\\Python\\Python38\\site-packages\\keras\\utils\\traceback_utils.py\", line 70, in error_handler\n        raise e.with_traceback(filtered_tb) from None\n    File \"C:\\Users\\braasch\\AppData\\Roaming\\Python\\Python38\\site-packages\\keras\\engine\\input_spec.py\", line 298, in assert_input_compatibility\n        raise ValueError(\n\n    ValueError: Input 0 of layer \"model\" is incompatible with the layer: expected shape=(None, 28, 28), found shape=(500, 68, 68)\n",
     "output_type": "error",
     "traceback": [
      "\u001b[1;31m---------------------------------------------------------------------------\u001b[0m",
      "\u001b[1;31mValueError\u001b[0m                                Traceback (most recent call last)",
      "\u001b[1;32m<ipython-input-139-ffa2c07d6fc9>\u001b[0m in \u001b[0;36m<module>\u001b[1;34m\u001b[0m\n\u001b[0;32m     18\u001b[0m \u001b[1;33m\u001b[0m\u001b[0m\n\u001b[0;32m     19\u001b[0m     \u001b[1;31m#Test accuracy\u001b[0m\u001b[1;33m\u001b[0m\u001b[1;33m\u001b[0m\u001b[1;33m\u001b[0m\u001b[0m\n\u001b[1;32m---> 20\u001b[1;33m     \u001b[0maccuracies\u001b[0m\u001b[1;33m[\u001b[0m\u001b[1;36m1\u001b[0m\u001b[1;33m,\u001b[0m\u001b[1;33m:\u001b[0m\u001b[1;33m,\u001b[0m\u001b[0mi\u001b[0m\u001b[1;33m]\u001b[0m\u001b[1;33m=\u001b[0m \u001b[0mmodel\u001b[0m\u001b[1;33m.\u001b[0m\u001b[0mevaluate\u001b[0m\u001b[1;33m(\u001b[0m\u001b[0mx_test_\u001b[0m\u001b[1;33m,\u001b[0m \u001b[0my_test\u001b[0m\u001b[1;33m,\u001b[0m \u001b[0mbatch_size\u001b[0m \u001b[1;33m=\u001b[0m \u001b[1;36m500\u001b[0m\u001b[1;33m,\u001b[0m \u001b[0mverbose\u001b[0m \u001b[1;33m=\u001b[0m \u001b[1;32mFalse\u001b[0m\u001b[1;33m)\u001b[0m\u001b[1;33m\u001b[0m\u001b[1;33m\u001b[0m\u001b[0m\n\u001b[0m\u001b[0;32m     21\u001b[0m     \u001b[0maccuracies\u001b[0m\u001b[1;33m[\u001b[0m\u001b[1;36m0\u001b[0m\u001b[1;33m,\u001b[0m\u001b[1;33m:\u001b[0m\u001b[1;33m,\u001b[0m\u001b[0mi\u001b[0m\u001b[1;33m]\u001b[0m \u001b[1;33m=\u001b[0m \u001b[0mmodel\u001b[0m\u001b[1;33m.\u001b[0m\u001b[0mevaluate\u001b[0m\u001b[1;33m(\u001b[0m\u001b[0mx_train_\u001b[0m\u001b[1;33m,\u001b[0m \u001b[0my_train\u001b[0m\u001b[1;33m,\u001b[0m \u001b[0mbatch_size\u001b[0m \u001b[1;33m=\u001b[0m \u001b[1;36m500\u001b[0m\u001b[1;33m,\u001b[0m \u001b[0mverbose\u001b[0m \u001b[1;33m=\u001b[0m \u001b[1;32mFalse\u001b[0m\u001b[1;33m)\u001b[0m\u001b[1;33m\u001b[0m\u001b[1;33m\u001b[0m\u001b[0m\n\u001b[0;32m     22\u001b[0m     \u001b[0mtf\u001b[0m\u001b[1;33m.\u001b[0m\u001b[0mkeras\u001b[0m\u001b[1;33m.\u001b[0m\u001b[0mbackend\u001b[0m\u001b[1;33m.\u001b[0m\u001b[0mclear_session\u001b[0m\u001b[1;33m(\u001b[0m\u001b[1;33m)\u001b[0m\u001b[1;33m\u001b[0m\u001b[1;33m\u001b[0m\u001b[0m\n",
      "\u001b[1;32m~\\AppData\\Roaming\\Python\\Python38\\site-packages\\keras\\utils\\traceback_utils.py\u001b[0m in \u001b[0;36merror_handler\u001b[1;34m(*args, **kwargs)\u001b[0m\n\u001b[0;32m     68\u001b[0m             \u001b[1;31m# To get the full stack trace, call:\u001b[0m\u001b[1;33m\u001b[0m\u001b[1;33m\u001b[0m\u001b[1;33m\u001b[0m\u001b[0m\n\u001b[0;32m     69\u001b[0m             \u001b[1;31m# `tf.debugging.disable_traceback_filtering()`\u001b[0m\u001b[1;33m\u001b[0m\u001b[1;33m\u001b[0m\u001b[1;33m\u001b[0m\u001b[0m\n\u001b[1;32m---> 70\u001b[1;33m             \u001b[1;32mraise\u001b[0m \u001b[0me\u001b[0m\u001b[1;33m.\u001b[0m\u001b[0mwith_traceback\u001b[0m\u001b[1;33m(\u001b[0m\u001b[0mfiltered_tb\u001b[0m\u001b[1;33m)\u001b[0m \u001b[1;32mfrom\u001b[0m \u001b[1;32mNone\u001b[0m\u001b[1;33m\u001b[0m\u001b[1;33m\u001b[0m\u001b[0m\n\u001b[0m\u001b[0;32m     71\u001b[0m         \u001b[1;32mfinally\u001b[0m\u001b[1;33m:\u001b[0m\u001b[1;33m\u001b[0m\u001b[1;33m\u001b[0m\u001b[0m\n\u001b[0;32m     72\u001b[0m             \u001b[1;32mdel\u001b[0m \u001b[0mfiltered_tb\u001b[0m\u001b[1;33m\u001b[0m\u001b[1;33m\u001b[0m\u001b[0m\n",
      "\u001b[1;32m~\\AppData\\Roaming\\Python\\Python38\\site-packages\\keras\\engine\\training.py\u001b[0m in \u001b[0;36mtf__test_function\u001b[1;34m(iterator)\u001b[0m\n\u001b[0;32m     13\u001b[0m                 \u001b[1;32mtry\u001b[0m\u001b[1;33m:\u001b[0m\u001b[1;33m\u001b[0m\u001b[1;33m\u001b[0m\u001b[0m\n\u001b[0;32m     14\u001b[0m                     \u001b[0mdo_return\u001b[0m \u001b[1;33m=\u001b[0m \u001b[1;32mTrue\u001b[0m\u001b[1;33m\u001b[0m\u001b[1;33m\u001b[0m\u001b[0m\n\u001b[1;32m---> 15\u001b[1;33m                     \u001b[0mretval_\u001b[0m \u001b[1;33m=\u001b[0m \u001b[0mag__\u001b[0m\u001b[1;33m.\u001b[0m\u001b[0mconverted_call\u001b[0m\u001b[1;33m(\u001b[0m\u001b[0mag__\u001b[0m\u001b[1;33m.\u001b[0m\u001b[0mld\u001b[0m\u001b[1;33m(\u001b[0m\u001b[0mstep_function\u001b[0m\u001b[1;33m)\u001b[0m\u001b[1;33m,\u001b[0m \u001b[1;33m(\u001b[0m\u001b[0mag__\u001b[0m\u001b[1;33m.\u001b[0m\u001b[0mld\u001b[0m\u001b[1;33m(\u001b[0m\u001b[0mself\u001b[0m\u001b[1;33m)\u001b[0m\u001b[1;33m,\u001b[0m \u001b[0mag__\u001b[0m\u001b[1;33m.\u001b[0m\u001b[0mld\u001b[0m\u001b[1;33m(\u001b[0m\u001b[0miterator\u001b[0m\u001b[1;33m)\u001b[0m\u001b[1;33m)\u001b[0m\u001b[1;33m,\u001b[0m \u001b[1;32mNone\u001b[0m\u001b[1;33m,\u001b[0m \u001b[0mfscope\u001b[0m\u001b[1;33m)\u001b[0m\u001b[1;33m\u001b[0m\u001b[1;33m\u001b[0m\u001b[0m\n\u001b[0m\u001b[0;32m     16\u001b[0m                 \u001b[1;32mexcept\u001b[0m\u001b[1;33m:\u001b[0m\u001b[1;33m\u001b[0m\u001b[1;33m\u001b[0m\u001b[0m\n\u001b[0;32m     17\u001b[0m                     \u001b[0mdo_return\u001b[0m \u001b[1;33m=\u001b[0m \u001b[1;32mFalse\u001b[0m\u001b[1;33m\u001b[0m\u001b[1;33m\u001b[0m\u001b[0m\n",
      "\u001b[1;31mValueError\u001b[0m: in user code:\n\n    File \"C:\\Users\\braasch\\AppData\\Roaming\\Python\\Python38\\site-packages\\keras\\engine\\training.py\", line 1852, in test_function  *\n        return step_function(self, iterator)\n    File \"C:\\Users\\braasch\\AppData\\Roaming\\Python\\Python38\\site-packages\\keras\\engine\\training.py\", line 1836, in step_function  **\n        outputs = model.distribute_strategy.run(run_step, args=(data,))\n    File \"C:\\Users\\braasch\\AppData\\Roaming\\Python\\Python38\\site-packages\\keras\\engine\\training.py\", line 1824, in run_step  **\n        outputs = model.test_step(data)\n    File \"C:\\Users\\braasch\\AppData\\Roaming\\Python\\Python38\\site-packages\\keras\\engine\\training.py\", line 1788, in test_step\n        y_pred = self(x, training=False)\n    File \"C:\\Users\\braasch\\AppData\\Roaming\\Python\\Python38\\site-packages\\keras\\utils\\traceback_utils.py\", line 70, in error_handler\n        raise e.with_traceback(filtered_tb) from None\n    File \"C:\\Users\\braasch\\AppData\\Roaming\\Python\\Python38\\site-packages\\keras\\engine\\input_spec.py\", line 298, in assert_input_compatibility\n        raise ValueError(\n\n    ValueError: Input 0 of layer \"model\" is incompatible with the layer: expected shape=(None, 28, 28), found shape=(500, 68, 68)\n"
     ]
    }
   ],
   "source": [
    "#Test Robustness against input and output distance (in units of wavelength)\n",
    "magnification = np.linspace(0.8,1.2,41)\n",
    "\n",
    "accuracies = np.zeros((2,2,len(del_z_out)))\n",
    "for i, m in enumerate(magnification):\n",
    "    print(m, end=\", \")   \n",
    "    \n",
    "    #Rescaled input\n",
    "    x_test_ = myZoom(x_test, zoom = m)\n",
    "    x_train_ = myZoom(x_train, zoom = m)\n",
    "    input_shape = x_test.shape[1::]\n",
    "    \n",
    "    #Load Model \n",
    "    model      = get_model(input_shape,  N_meta = N_meta, N_mesh = N_mesh, \n",
    "                D_scale1 = D_scale1, D_scale2 = D_scale2, D_scale3 = D_scale3, \n",
    "                       zScale1 = zScale1, zScale2 = zScale2, lam = lam)    \n",
    "    model.set_weights(weights)\n",
    "\n",
    "    #Test accuracy\n",
    "    accuracies[1,:,i]= model.evaluate(x_test_, y_test, batch_size = 500, verbose = False)\n",
    "    accuracies[0,:,i] = model.evaluate(x_train_, y_train, batch_size = 500, verbose = False)\n",
    "    tf.keras.backend.clear_session()\n",
    "    \n",
    "    tf.keras.backend.clear_session()"
   ]
  },
  {
   "cell_type": "code",
   "execution_count": null,
   "metadata": {},
   "outputs": [],
   "source": [
    "#Vizualize results\n",
    "\n",
    "x = magnification\n",
    "\n",
    "#Loss & accuracy in units uf µm ann lambda\n",
    "for i, label in enumerate([\"loss\",\"accuracy\"]):\n",
    "    fig, ax = plt.subplots()\n",
    "    ax.plot(x,accuracies[0,i,:], label = \"training\")\n",
    "    ax.plot(x,accuracies[1,i,:], label = \"validation\")\n",
    "    ax.set_ylabel(label)\n",
    "    ax.set_xlabel(r\"$\\Delta$z [µm]\")\n",
    "    ax.legend()\n",
    "    ax.grid()\n",
    "    mn, mx = ax.get_xlim()\n",
    "    #ax2 = ax.twiny()\n",
    "    #ax2.set_xlim(mn/lam, mx/lam)\n",
    "    #ax2.set_xlabel(r\"$\\Delta$z [$\\lambda$]\")\n",
    "    fig.tight_layout() \n",
    "    plt.show()\n",
    "    plt.close()"
   ]
  },
  {
   "cell_type": "code",
   "execution_count": null,
   "metadata": {},
   "outputs": [],
   "source": [
    "res = {\"del_zScales\": magnification, \"accuracies\" : accuracies}\n",
    "np.save('magnification_influence.npy', res) "
   ]
  }
 ],
 "metadata": {
  "kernelspec": {
   "display_name": "Python 3",
   "language": "python",
   "name": "python3"
  },
  "language_info": {
   "codemirror_mode": {
    "name": "ipython",
    "version": 3
   },
   "file_extension": ".py",
   "mimetype": "text/x-python",
   "name": "python",
   "nbconvert_exporter": "python",
   "pygments_lexer": "ipython3",
   "version": "3.8.5"
  }
 },
 "nbformat": 4,
 "nbformat_minor": 5
}
